{
 "cells": [
  {
   "cell_type": "code",
   "execution_count": 15,
   "id": "cf03a3e8-ed6d-4acd-9bef-881a295b9a7e",
   "metadata": {},
   "outputs": [],
   "source": [
    "import sys\n",
    "sys.path.insert(0, \"submodules/dc-egm/src/\")\n",
    "import numpy as np"
   ]
  },
  {
   "cell_type": "code",
   "execution_count": 2,
   "id": "dfdf59e0-1c8a-4315-ab6c-1b0b5e1443c0",
   "metadata": {},
   "outputs": [],
   "source": [
    "from dcegm.solve import get_solve_function"
   ]
  },
  {
   "cell_type": "code",
   "execution_count": 8,
   "id": "0fe132e2-26bd-40ae-b39b-b46b8131b4eb",
   "metadata": {},
   "outputs": [],
   "source": [
    "options_test = {\n",
    "     # mandatory\n",
    "    \"n_periods\": 5,\n",
    "    \"n_discrete_choices\": 3,\n",
    "    \"n_exog_states\": 1,\n",
    "    # custom\n",
    "    \"belief_update_increment\": 0.05,\n",
    "    \"n_policy_states\": 3,\n",
    "    \"resolution_period\": 3,\n",
    "}\n",
    "\n",
    "params_dict_test = {\n",
    "    \"mu\": 0.5,\n",
    "    \"delta\": 4\n",
    "}"
   ]
  },
  {
   "cell_type": "markdown",
   "id": "936ebfb4-72b4-49b3-9f3c-6ca24ab9366e",
   "metadata": {},
   "source": [
    "# State space - No need to be jax compatible"
   ]
  },
  {
   "cell_type": "code",
   "execution_count": 21,
   "id": "4c214362-f6c1-489b-8aa8-dc99273379f1",
   "metadata": {},
   "outputs": [],
   "source": [
    "def create_state_space(options):\n",
    "    n_periods = options[\"n_periods\"]\n",
    "    n_choices = options[\"n_discrete_choices\"]\n",
    "    n_exog_states = options[\"n_exog_states\"]\n",
    "    n_policy_states = options[\"n_policy_states\"]\n",
    "    resolution_period = options[\"resolution_period\"]\n",
    "\n",
    "    # shape = (n_periods, n_choices, n_exog_states)\n",
    "    state_space = []\n",
    "\n",
    "    for period in range(n_periods):\n",
    "        for choice in range(n_choices):\n",
    "            for exp in range(period + 1):\n",
    "                for policy_state in range(period + 1):\n",
    "                    age = 25 + period\n",
    "                    if period > resolution_period:\n",
    "                        continue\n",
    "                    # You can not retire before the resolution period\n",
    "                    elif (period < resolution_period) & (choice == 2):\n",
    "                        continue\n",
    "                    # If you have not worked last period, you can't have worked all your live \n",
    "                    elif (choice == 0) & (period == exp):\n",
    "                        continue\n",
    "                    else:\n",
    "                        state_space += [[period, choice, exp, policy_state, 0]]\n",
    "\n",
    "    return np.array(state_space)\n",
    "                \n",
    "            "
   ]
  },
  {
   "cell_type": "code",
   "execution_count": 22,
   "id": "1dac4320-86d4-4a3c-afbb-e31583f77181",
   "metadata": {},
   "outputs": [
    {
     "data": {
      "text/plain": [
       "array([[1, 0, 0, 0, 0],\n",
       "       [1, 0, 0, 1, 0],\n",
       "       [1, 0, 1, 0, 0],\n",
       "       [1, 0, 1, 1, 0],\n",
       "       [1, 1, 0, 0, 0],\n",
       "       [1, 1, 0, 1, 0]])"
      ]
     },
     "execution_count": 22,
     "metadata": {},
     "output_type": "execute_result"
    }
   ],
   "source": [
    "state_space = create_state_space(options_test)\n",
    "period_to_inspect = 1\n",
    "\n",
    "state_space[state_space[:, 0] == period_to_inspect]"
   ]
  },
  {
   "cell_type": "markdown",
   "id": "89b5f202-8a70-4f60-a12e-86befcf2c5bd",
   "metadata": {},
   "source": [
    "# Utility funcs"
   ]
  },
  {
   "cell_type": "code",
   "execution_count": 22,
   "id": "84fd7758-22e9-4828-861f-e7f0a9784740",
   "metadata": {},
   "outputs": [],
   "source": [
    "def utility_func(consumption, choice, params_dict):\n",
    "    mu = params_dict[\"mu\"]\n",
    "    delta = params_dict[\"delta\"]\n",
    "    is_working = choice == 1\n",
    "    utility = consumption ** (1- mu) / (1 - mu) - delta * is_working\n",
    "    return utility\n",
    "\n",
    "\n",
    "def marg_utility(consumption, params_dict):\n",
    "    mu = params_dict[\"mu\"]\n",
    "    marg_util = consumption ** -mu\n",
    "    return marg_util\n",
    "\n",
    "\n",
    "def inverse_marginal(marginal_utility, params_dict):\n",
    "    mu = params_dict[\"mu\"]\n",
    "    return marginal_utility ** (-1/mu)\n",
    "\n",
    "\n",
    "utility_functions = {\n",
    "        \"utility\": utility_func,\n",
    "        \"inverse_marginal_utility\": inverse_marginal,\n",
    "        \"marginal_utility\": marg_utility,\n",
    "    }\n",
    "    "
   ]
  },
  {
   "cell_type": "markdown",
   "id": "ea9902b8-2a0a-46b3-8e03-9d64d811f950",
   "metadata": {},
   "source": [
    "# Budget constraint"
   ]
  },
  {
   "cell_type": "code",
   "execution_count": null,
   "id": "fc958db6-5350-44ea-bea1-254eecc64c11",
   "metadata": {},
   "outputs": [],
   "source": [
    "def budget_constraint(state_beginning_of_period, savings_end_of_previous_period, income_shock_previous_period, params, options):\n",
    "    "
   ]
  },
  {
   "cell_type": "code",
   "execution_count": 3,
   "id": "018ff4ff-1085-48c7-948f-5a724a5a4cef",
   "metadata": {},
   "outputs": [
    {
     "data": {
      "text/plain": [
       "\u001b[0;31mSignature:\u001b[0m\n",
       "\u001b[0mget_solve_function\u001b[0m\u001b[0;34m(\u001b[0m\u001b[0;34m\u001b[0m\n",
       "\u001b[0;34m\u001b[0m    \u001b[0moptions\u001b[0m\u001b[0;34m:\u001b[0m \u001b[0mDict\u001b[0m\u001b[0;34m[\u001b[0m\u001b[0mstr\u001b[0m\u001b[0;34m,\u001b[0m \u001b[0mint\u001b[0m\u001b[0;34m]\u001b[0m\u001b[0;34m,\u001b[0m\u001b[0;34m\u001b[0m\n",
       "\u001b[0;34m\u001b[0m    \u001b[0mexog_savings_grid\u001b[0m\u001b[0;34m:\u001b[0m \u001b[0mjax\u001b[0m\u001b[0;34m.\u001b[0m\u001b[0mArray\u001b[0m\u001b[0;34m,\u001b[0m\u001b[0;34m\u001b[0m\n",
       "\u001b[0;34m\u001b[0m    \u001b[0mutility_functions\u001b[0m\u001b[0;34m:\u001b[0m \u001b[0mDict\u001b[0m\u001b[0;34m[\u001b[0m\u001b[0mstr\u001b[0m\u001b[0;34m,\u001b[0m \u001b[0mCallable\u001b[0m\u001b[0;34m]\u001b[0m\u001b[0;34m,\u001b[0m\u001b[0;34m\u001b[0m\n",
       "\u001b[0;34m\u001b[0m    \u001b[0mbudget_constraint\u001b[0m\u001b[0;34m:\u001b[0m \u001b[0mCallable\u001b[0m\u001b[0;34m,\u001b[0m\u001b[0;34m\u001b[0m\n",
       "\u001b[0;34m\u001b[0m    \u001b[0mstate_space_functions\u001b[0m\u001b[0;34m:\u001b[0m \u001b[0mDict\u001b[0m\u001b[0;34m[\u001b[0m\u001b[0mstr\u001b[0m\u001b[0;34m,\u001b[0m \u001b[0mCallable\u001b[0m\u001b[0;34m]\u001b[0m\u001b[0;34m,\u001b[0m\u001b[0;34m\u001b[0m\n",
       "\u001b[0;34m\u001b[0m    \u001b[0mfinal_period_solution\u001b[0m\u001b[0;34m:\u001b[0m \u001b[0mCallable\u001b[0m\u001b[0;34m,\u001b[0m\u001b[0;34m\u001b[0m\n",
       "\u001b[0;34m\u001b[0m    \u001b[0mtransition_function\u001b[0m\u001b[0;34m:\u001b[0m \u001b[0mCallable\u001b[0m\u001b[0;34m,\u001b[0m\u001b[0;34m\u001b[0m\n",
       "\u001b[0;34m\u001b[0m\u001b[0;34m)\u001b[0m \u001b[0;34m->\u001b[0m \u001b[0mCallable\u001b[0m\u001b[0;34m\u001b[0m\u001b[0;34m\u001b[0m\u001b[0m\n",
       "\u001b[0;31mDocstring:\u001b[0m\n",
       "Create a solve function, which only takes params as input.\n",
       "\n",
       "Args:\n",
       "    options (dict): Options dictionary.\n",
       "    exog_savings_grid (jnp.ndarray): 1d array of shape (n_grid_wealth,) containing\n",
       "        the user-supplied exogenous savings grid.\n",
       "    utility_functions (Dict[str, callable]): Dictionary of three user-supplied\n",
       "        functions for computation of:\n",
       "        (i) utility\n",
       "        (ii) inverse marginal utility\n",
       "        (iii) next period marginal utility\n",
       "    budget_constraint (callable): Callable budget constraint.\n",
       "    state_space_functions (Dict[str, callable]): Dictionary of two user-supplied\n",
       "        functions to:\n",
       "        (i) create the state space\n",
       "        (ii) get the state specific feasible choice set\n",
       "        (iii) update the endogenous part of the state by the choice\n",
       "    final_period_solution (callable): User-supplied function for solving the agent's\n",
       "        last period.\n",
       "    transition_function (callable): User-supplied function returning for each\n",
       "        state a transition matrix vector.\n",
       "\n",
       "Returns:\n",
       "    callable: The partial solve function that only takes ```params``` as input.\n",
       "\u001b[0;31mFile:\u001b[0m      ~/Uni/policy_uncertainty/model_development/submodules/dc-egm/src/dcegm/solve.py\n",
       "\u001b[0;31mType:\u001b[0m      function"
      ]
     },
     "metadata": {},
     "output_type": "display_data"
    }
   ],
   "source": [
    "get_solve_function?"
   ]
  },
  {
   "cell_type": "code",
   "execution_count": null,
   "id": "d9f53c96-2e0a-4163-bc92-54f5ec090998",
   "metadata": {},
   "outputs": [],
   "source": []
  }
 ],
 "metadata": {
  "kernelspec": {
   "display_name": "Python 3 (ipykernel)",
   "language": "python",
   "name": "python3"
  },
  "language_info": {
   "codemirror_mode": {
    "name": "ipython",
    "version": 3
   },
   "file_extension": ".py",
   "mimetype": "text/x-python",
   "name": "python",
   "nbconvert_exporter": "python",
   "pygments_lexer": "ipython3",
   "version": "3.10.12"
  }
 },
 "nbformat": 4,
 "nbformat_minor": 5
}
