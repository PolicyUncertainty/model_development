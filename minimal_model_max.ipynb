{
 "cells": [
  {
   "cell_type": "code",
   "execution_count": 1,
   "id": "cf03a3e8-ed6d-4acd-9bef-881a295b9a7e",
   "metadata": {},
   "outputs": [],
   "source": [
    "import sys\n",
    "sys.path.insert(0, \"submodules/dc-egm/src/\")\n",
    "import numpy as np"
   ]
  },
  {
   "cell_type": "code",
   "execution_count": 2,
   "id": "dfdf59e0-1c8a-4315-ab6c-1b0b5e1443c0",
   "metadata": {},
   "outputs": [],
   "source": [
    "from dcegm.solve import get_solve_function"
   ]
  },
  {
   "cell_type": "code",
   "execution_count": 3,
   "id": "0fe132e2-26bd-40ae-b39b-b46b8131b4eb",
   "metadata": {},
   "outputs": [],
   "source": [
    "options_test = {\n",
    "     # mandatory\n",
    "    \"n_periods\": 50, # 25 + 50 = 75\n",
    "    \"n_discrete_choices\": 3,\n",
    "    \"n_exog_states\": 1,\n",
    "    # custom: model structure\n",
    "    \"start_age\": 25,\n",
    "    \"resolution_age\": 60,\n",
    "    # custom: policy environment\n",
    "    \"minimum_SRA\": 67, \n",
    "    \"maximum_retirement_age\": 72,\n",
    "    \"unemployment_benefits\": 5,\n",
    "    \"pension_point_value\": 0.3,\n",
    "    \"early_retirement_penalty\": 0.036,\n",
    "    # custom: params estimated outside model\n",
    "    \"belief_update_increment\": 0.05,\n",
    "    \"gamma_0\": 10,\n",
    "    \"gamma_1\": 1,\n",
    "    \"gamma_2\": -0.1,\n",
    "    \"interest_rate\": 0.03\n",
    "}\n",
    "\n",
    "params_dict_test = {\n",
    "    \"mu\": 0.5,\n",
    "    \"delta\": 4  \n",
    "}"
   ]
  },
  {
   "cell_type": "markdown",
   "id": "936ebfb4-72b4-49b3-9f3c-6ca24ab9366e",
   "metadata": {},
   "source": [
    "# State space - No need to be jax compatible"
   ]
  },
  {
   "cell_type": "code",
   "execution_count": 14,
   "id": "4c214362-f6c1-489b-8aa8-dc99273379f1",
   "metadata": {},
   "outputs": [],
   "source": [
    "def create_state_space(options):\n",
    "    n_periods = options[\"n_periods\"]\n",
    "    n_choices = options[\"n_discrete_choices\"]\n",
    "    n_exog_states = options[\"n_exog_states\"]\n",
    "    resolution_age = options[\"resolution_age\"]\n",
    "    start_age = options[\"start_age\"]\n",
    "    belief_update_increment = options[\"belief_update_increment\"]\n",
    "    \n",
    "    # The highest policy state, we consider belongs to the expectation of the youngest.\n",
    "    n_policy_states = resolution_age - start_age\n",
    "\n",
    "    # minimum retirement age is 4 years before the lowest statutory ret age \n",
    "    min_ret_age = options[\"minimum_SRA\"] - 4\n",
    "    # maximum (conceivable) retirement age is given by lowest SRA plus the projection of the youngest\n",
    "    max_ret_age = options[\"maximum_retirement_age\"]\n",
    "    # number of possible actual retirement ages\n",
    "    n_ret_ages = max_ret_age - min_ret_age + 1\n",
    "    \n",
    "    # shape = (n_periods, n_choices, n_exog_states)\n",
    "    state_space = []\n",
    "    \n",
    "    shape = (n_periods, n_choices, n_periods, n_policy_states, n_ret_ages, 1)\n",
    "    \n",
    "    map_state_to_index = np.full(shape, fill_value=-9999, dtype=np.int64)\n",
    "    i = 0\n",
    "\n",
    "    for period in range(n_periods):\n",
    "        for lag_choice in range(n_choices):\n",
    "            # You cannot have more experience than your age\n",
    "            for exp in range(period + 1):\n",
    "                # The policy state we need to consider increases by one increment per period.\n",
    "                for policy_state in range(period + 1):\n",
    "                    for actual_retirement_id in range(n_ret_ages):\n",
    "                        age = start_age + period\n",
    "                        actual_retirement_age = min_ret_age + actual_retirement_id\n",
    "                        # You cannot retire before the earliest retirement age\n",
    "                        if (age <= min_ret_age) & (lag_choice == 2):\n",
    "                            continue\n",
    "                        # After the maximum retirement age, you must be retired\n",
    "                        elif (age > max_ret_age) & (lag_choice != 2):\n",
    "                            continue\n",
    "                        # If you weren't retired last period, your actual retirement age is kept at minimum\n",
    "                        elif (lag_choice != 2) & (actual_retirement_id > 0):\n",
    "                            continue\n",
    "                        # If you are retired, your actual retirement age can at most be your current age    \n",
    "                        elif (lag_choice == 2) & (age <= actual_retirement_age):\n",
    "                            continue\n",
    "                        # Starting from resolution age, there is no more adding of policy states. \n",
    "                        elif policy_state > n_policy_states - 1:\n",
    "                            continue\n",
    "                        # If you have not worked last period, you can't have worked all your live \n",
    "                        elif (lag_choice != 1) & (period == exp) & (period > 0):\n",
    "                            continue\n",
    "                        else:\n",
    "                            state_space += [[period, lag_choice, exp, policy_state, actual_retirement_age, 0]]\n",
    "                            map_state_to_index[period, lag_choice, exp, policy_state, actual_retirement_id, 0] = i\n",
    "                            i += 1\n",
    "\n",
    "    return np.array(state_space), map_state_to_index\n",
    "\n",
    "\n",
    "def get_choice_set(state, map_state_to_index):\n",
    "    #Todo: replace hard coded parameters\n",
    "    #Todo: everything dependent on policy state (e.g. can only retire 4 years before SRA)\n",
    "    \n",
    "    # if you're younger than min SRA, you cannot retire\n",
    "    if state[0] < 63 - 25:\n",
    "        return np.array([0, 1])\n",
    "     # After the maximum retirement age, you must be retired\n",
    "    elif state[0] > 73 - 25:\n",
    "        return np.array([2])\n",
    "    # retirement is absorbing\n",
    "    elif state[1] == 2:\n",
    "        return np.array([2])\n",
    "    else:\n",
    "        return np.array([0, 1, 2])\n",
    "    \n",
    "def update_state(state, choice):\n",
    "    state_next = state.copy()\n",
    "    \n",
    "    # age increases by one\n",
    "    state_next[0] += 1\n",
    "    \n",
    "    # Set choice as lag choice in next state\n",
    "    state_next[1] = choice\n",
    "    \n",
    "    # experience increases by one if working\n",
    "    if choice == 1:\n",
    "        state_next[2] += 1\n",
    "    \n",
    "    # expected SRA increases by one increment\n",
    "    if state[0] + 25 < 60:\n",
    "        state_next[3] += 1\n",
    "        \n",
    "    return state_next\n",
    "            "
   ]
  },
  {
   "cell_type": "markdown",
   "id": "89b5f202-8a70-4f60-a12e-86befcf2c5bd",
   "metadata": {},
   "source": [
    "# Utility funcs"
   ]
  },
  {
   "cell_type": "code",
   "execution_count": 15,
   "id": "84fd7758-22e9-4828-861f-e7f0a9784740",
   "metadata": {},
   "outputs": [],
   "source": [
    "def utility_func(consumption, choice, params_dict):\n",
    "    mu = params_dict[\"mu\"]\n",
    "    delta = params_dict[\"delta\"]\n",
    "    is_working = choice == 1\n",
    "    utility = consumption ** (1- mu) / (1 - mu) - delta * is_working\n",
    "    return utility\n",
    "\n",
    "\n",
    "def marg_utility(consumption, params_dict):\n",
    "    mu = params_dict[\"mu\"]\n",
    "    marg_util = consumption ** -mu\n",
    "    return marg_util\n",
    "\n",
    "\n",
    "def inverse_marginal(marginal_utility, params_dict):\n",
    "    mu = params_dict[\"mu\"]\n",
    "    return marginal_utility ** (-1/mu)\n",
    "\n",
    "\n",
    "utility_functions = {\n",
    "        \"utility\": utility_func,\n",
    "        \"inverse_marginal_utility\": inverse_marginal,\n",
    "        \"marginal_utility\": marg_utility,\n",
    "    }\n",
    "    "
   ]
  },
  {
   "cell_type": "markdown",
   "id": "2bc8544e",
   "metadata": {},
   "source": [
    "# Last Period Utility (i.e. Bequest)"
   ]
  },
  {
   "cell_type": "code",
   "execution_count": null,
   "id": "31dbe571",
   "metadata": {},
   "outputs": [],
   "source": []
  },
  {
   "cell_type": "markdown",
   "id": "b7b0f938",
   "metadata": {},
   "source": [
    "# Budget Equation"
   ]
  },
  {
   "cell_type": "code",
   "execution_count": 6,
   "id": "fc958db6-5350-44ea-bea1-254eecc64c11",
   "metadata": {},
   "outputs": [],
   "source": [
    "def budget_constraint(state_beginning_of_period, # s_t, with d_{t-1} at s_t[1]\n",
    "                      savings_end_of_previous_period, # A_{t-1}\n",
    "                      income_shock_previous_period, # epsilon_{t - 1}\n",
    "                      params,\n",
    "                      options):\n",
    "    \n",
    "    \n",
    "    # fetch necessary parameters (gammas for wage, lambdas & ERP for pension)\n",
    "    gamma_0 = options[\"gamma_0\"]\n",
    "    gamma_1 = options[\"gamma_1\"]\n",
    "    gamma_2 = options[\"gamma_2\"]\n",
    "    lambd = options[\"pension_point_value\"]\n",
    "    ERP = options[\"early_retirement_penalty\"]\n",
    "    \n",
    "    # read out state\n",
    "    age = state_beginning_of_period[0]\n",
    "    lag_choice = state_beginning_of_period[1]\n",
    "    experience = state_beginning_of_period[2]\n",
    "    SRA_at_resolution = options[\"minimum_SRA\"] + state_beginning_of_period[3]*options[\"belief_update_increment\"]\n",
    "    actual_retirement_age = 68 # B: das hier fehlt noch im state space\n",
    "    \n",
    "    # calculate applicable SRA and pension deduction/increase factor \n",
    "    # (malus for early retirement, bonus for late retirement)\n",
    "    \n",
    "    pension_factor = 1 - (actual_retirement_age - SRA_at_resolution)*ERP \n",
    "    \n",
    "    # decision bools\n",
    "    is_unemployed = lag_choice==0 \n",
    "    is_worker = lag_choice==1\n",
    "    is_retired = lag_choice==2\n",
    "    \n",
    "    # decision-specific income\n",
    "    unemployment_benefits = options[\"unemployment_benefits\"]\n",
    "    labor_income = gamma_0 + gamma_1*experience + gamma_2*experience**2 + income_shock_previous_period \n",
    "    retirement_income = lambd*experience*pension_factor \n",
    "    \n",
    "    income = is_unemployed * unemployment_benefits + is_worker * labor_income + is_retired * retirement_income\n",
    "    \n",
    "    # calculate beginning of period wealth M_t\n",
    "    wealth = (1 + options[\"interest_rate\"]) * savings_end_of_previous_period + income\n",
    "    \n",
    "    return wealth\n",
    "    "
   ]
  },
  {
   "cell_type": "markdown",
   "id": "ffaf20d9",
   "metadata": {},
   "source": [
    "# State Space and Budget Tests"
   ]
  },
  {
   "cell_type": "code",
   "execution_count": 7,
   "id": "66537235",
   "metadata": {},
   "outputs": [
    {
     "data": {
      "text/plain": [
       "13.219000000000001"
      ]
     },
     "execution_count": 7,
     "metadata": {},
     "output_type": "execute_result"
    }
   ],
   "source": [
    "# state-space test\n",
    "\n",
    "state_space, indexer = create_state_space(options_test)\n",
    "\n",
    "\n",
    "budget_constraint(state_beginning_of_period=state_space[47226,:], # s_t, with d_{t-1} at s_t[1]\n",
    "                      savings_end_of_previous_period=10, # A_{t-1}\n",
    "                      income_shock_previous_period=0.5, # epsilon_{t - 1}\n",
    "                      params=params_dict_test,\n",
    "                      options=options_test)\n"
   ]
  },
  {
   "cell_type": "code",
   "execution_count": 8,
   "id": "e96e464f",
   "metadata": {},
   "outputs": [
    {
     "data": {
      "text/plain": [
       "-9999"
      ]
     },
     "execution_count": 8,
     "metadata": {},
     "output_type": "execute_result"
    }
   ],
   "source": [
    "indexer[35,2,20,10,1,0]"
   ]
  },
  {
   "cell_type": "code",
   "execution_count": 9,
   "id": "c56bc31d",
   "metadata": {},
   "outputs": [
    {
     "data": {
      "text/plain": [
       "array([42,  2, 11,  0, 65,  0])"
      ]
     },
     "execution_count": 9,
     "metadata": {},
     "output_type": "execute_result"
    }
   ],
   "source": [
    "state_space[61043,:]\n"
   ]
  },
  {
   "cell_type": "code",
   "execution_count": 10,
   "id": "50cd4226",
   "metadata": {},
   "outputs": [
    {
     "data": {
      "text/plain": [
       "{'n_periods': 50,\n",
       " 'n_discrete_choices': 3,\n",
       " 'n_exog_states': 1,\n",
       " 'start_age': 25,\n",
       " 'resolution_age': 60,\n",
       " 'minimum_SRA': 67,\n",
       " 'maximum_retirement_age': 72,\n",
       " 'unemployment_benefits': 5,\n",
       " 'pension_point_value': 0.3,\n",
       " 'early_retirement_penalty': 0.036,\n",
       " 'belief_update_increment': 0.05,\n",
       " 'gamma_0': 10,\n",
       " 'gamma_1': 1,\n",
       " 'gamma_2': -0.1,\n",
       " 'interest_rate': 0.03}"
      ]
     },
     "execution_count": 10,
     "metadata": {},
     "output_type": "execute_result"
    }
   ],
   "source": [
    "options_test"
   ]
  },
  {
   "cell_type": "markdown",
   "id": "c424efe0",
   "metadata": {},
   "source": [
    "# Dumm exog process"
   ]
  },
  {
   "cell_type": "code",
   "execution_count": 11,
   "id": "764c7ed0",
   "metadata": {},
   "outputs": [],
   "source": [
    "def dummy_exog(state, params_dict):\n",
    "    return np.array([1])"
   ]
  },
  {
   "cell_type": "code",
   "execution_count": 12,
   "id": "1dac4320-86d4-4a3c-afbb-e31583f77181",
   "metadata": {},
   "outputs": [
    {
     "data": {
      "text/plain": [
       "array([[ 0,  0,  0,  0, 63,  0],\n",
       "       [ 0,  1,  0,  0, 63,  0]])"
      ]
     },
     "execution_count": 12,
     "metadata": {},
     "output_type": "execute_result"
    }
   ],
   "source": [
    "state_space, map_state_to_index = create_state_space(options_test)\n",
    "period_to_inspect = 0\n",
    "\n",
    "state_space[state_space[:, 0] == period_to_inspect]"
   ]
  },
  {
   "cell_type": "code",
   "execution_count": 13,
   "id": "018ff4ff-1085-48c7-948f-5a724a5a4cef",
   "metadata": {},
   "outputs": [],
   "source": [
    "get_solve_function?"
   ]
  },
  {
   "cell_type": "code",
   "execution_count": null,
   "id": "d9f53c96-2e0a-4163-bc92-54f5ec090998",
   "metadata": {},
   "outputs": [],
   "source": []
  },
  {
   "cell_type": "code",
   "execution_count": null,
   "id": "b9da4ad7",
   "metadata": {},
   "outputs": [],
   "source": []
  }
 ],
 "metadata": {
  "kernelspec": {
   "display_name": "Python 3 (ipykernel)",
   "language": "python",
   "name": "python3"
  },
  "language_info": {
   "codemirror_mode": {
    "name": "ipython",
    "version": 3
   },
   "file_extension": ".py",
   "mimetype": "text/x-python",
   "name": "python",
   "nbconvert_exporter": "python",
   "pygments_lexer": "ipython3",
   "version": "3.10.4"
  }
 },
 "nbformat": 4,
 "nbformat_minor": 5
}
