{
 "cells": [
  {
   "cell_type": "code",
   "execution_count": 1,
   "id": "cf03a3e8-ed6d-4acd-9bef-881a295b9a7e",
   "metadata": {
    "ExecuteTime": {
     "end_time": "2023-11-14T14:52:03.950647895Z",
     "start_time": "2023-11-14T14:52:03.581471494Z"
    }
   },
   "outputs": [],
   "source": [
    "import sys\n",
    "sys.path.insert(0, \"submodules/dc-egm/src/\")\n",
    "import numpy as np\n",
    "import jax.numpy as jnp\n",
    "import jax"
   ]
  },
  {
   "cell_type": "code",
   "execution_count": 2,
   "id": "dfdf59e0-1c8a-4315-ab6c-1b0b5e1443c0",
   "metadata": {
    "ExecuteTime": {
     "end_time": "2023-11-14T14:52:05.216728247Z",
     "start_time": "2023-11-14T14:52:04.668115208Z"
    }
   },
   "outputs": [],
   "source": [
    "from dcegm.solve import get_solve_function\n",
    "from dcegm.pre_processing.state_space import inspect_state_space   "
   ]
  },
  {
   "cell_type": "code",
   "execution_count": 3,
   "id": "0fe132e2-26bd-40ae-b39b-b46b8131b4eb",
   "metadata": {
    "ExecuteTime": {
     "end_time": "2023-11-14T14:52:05.232537627Z",
     "start_time": "2023-11-14T14:52:05.220951643Z"
    }
   },
   "outputs": [],
   "source": [
    "start_age = 25\n",
    "end_age = 75\n",
    "n_periods = end_age - start_age + 1\n",
    "resolution_age = 60 \n",
    "max_retirement_age = 72\n",
    "minimum_SRA = 67\n",
    "# you can retire four years before minimum_SRA\n",
    "min_retirement_age = minimum_SRA - 4 \n",
    "# you can retire from min retirement age until max retirement age\t\n",
    "n_possible_retirement_ages = max_retirement_age - min_retirement_age + 1\n",
    "# when you are (start_age) years old, there can be as many policy states as there are years until (resolution_age)\n",
    "n_possible_policy_states = resolution_age - start_age + 1\n",
    "# choices: 0 = unemployment, , 1 = work, 2 = retire\n",
    "choices = np.array([0,1,2])\n",
    "\n",
    "options_test = {\n",
    "\n",
    "    \"state_space\": {\n",
    "        \"n_periods\": n_periods,\n",
    "        \"choices\": np.array([0,1,2]),\n",
    "        \"endogenous_states\": {\n",
    "            \"experience\": np.arange(n_periods, dtype=int),\n",
    "            \"policy_state\": np.arange(n_possible_policy_states, dtype=int), \n",
    "            \"retirement_age_id\": np.arange(n_possible_retirement_ages, dtype=int), \n",
    "        },\n",
    "    },\n",
    "    \"model_params\": {\n",
    "        # info from state spoace used in functions\n",
    "        \"n_periods\": n_periods, \n",
    "        \"n_possible_policy_states\": n_possible_policy_states,\n",
    "        # mandatory keywords\n",
    "        \"quadrature_points_stochastic\": 5,\n",
    "        # custom: model structure\n",
    "        \"start_age\": start_age,\n",
    "        \"resolution_age\": resolution_age,\n",
    "        # custom: policy environment\n",
    "        \"minimum_SRA\": minimum_SRA, \n",
    "        \"max_retirement_age\": max_retirement_age,\n",
    "        \"min_retirement_age\": min_retirement_age,\n",
    "        \"unemployment_benefits\": 5,\n",
    "        \"pension_point_value\": 0.3,\n",
    "        \"early_retirement_penalty\": 0.036,\n",
    "        # custom: params estimated outside model\n",
    "        \"belief_update_increment\": 0.05,\n",
    "        \"gamma_0\": 10,\n",
    "        \"gamma_1\": 1,\n",
    "        \"gamma_2\": -0.1,\n",
    "    }\n",
    "        }\n",
    "\n",
    "params_dict_test = {\n",
    "    \"mu\": 0.5, # Risk aversion\n",
    "    \"delta\": 4, # Disutility of work\n",
    "    \"interest_rate\": 0.03,\n",
    "    \"lambda\": 1e-16, # Taste shock scale/variance. Almost equal zero = no taste shocks\n",
    "    \"beta\": 0.95, # Discount factor\n",
    "    \"sigma\": 1 # Income shock scale/variance.\n",
    "}\n"
   ]
  },
  {
   "cell_type": "markdown",
   "id": "18f87e20",
   "metadata": {},
   "source": [
    "# State space - No need to be jax compatible"
   ]
  },
  {
   "cell_type": "code",
   "execution_count": 4,
   "id": "b576a9f3",
   "metadata": {
    "ExecuteTime": {
     "end_time": "2023-11-14T14:52:06.156578628Z",
     "start_time": "2023-11-14T14:52:06.145518561Z"
    }
   },
   "outputs": [],
   "source": [
    "def sparsity_condition(\n",
    "    period, lagged_choice, policy_state, retirement_age_id, experience, options\n",
    "):\n",
    "    min_ret_age = options[\"min_retirement_age\"]\n",
    "    start_age = options[\"start_age\"]\n",
    "    max_ret_age = options[\"max_retirement_age\"]\n",
    "    n_policy_states = options[\"n_possible_policy_states\"]\n",
    "\n",
    "    age = start_age + period\n",
    "    actual_retirement_age = min_ret_age + retirement_age_id\n",
    "    # You cannot retire before the earliest retirement age\n",
    "    if (age <= min_ret_age) & (lagged_choice == 2):\n",
    "        return False\n",
    "    # After the maximum retirement age, you must be retired\n",
    "    elif (age > max_ret_age) & (lagged_choice != 2):\n",
    "        return False\n",
    "    # If you weren't retired last period, your actual retirement age is kept at minimum\n",
    "    elif (lagged_choice != 2) & (retirement_age_id > 0):\n",
    "        return False\n",
    "    # If you are retired, your actual retirement age can at most be your current age\n",
    "    elif (lagged_choice == 2) & (age <= actual_retirement_age):\n",
    "        return False\n",
    "    # Starting from resolution age, there is no more adding of policy states.\n",
    "    elif policy_state > n_policy_states - 1:\n",
    "        return False\n",
    "    # If you have not worked last period, you can't have worked all your live\n",
    "    elif (lagged_choice != 1) & (period == experience) & (period > 0):\n",
    "        return False\n",
    "    # You cannot have more experience than your age\n",
    "    elif experience > period:\n",
    "        return False\n",
    "    # The policy state we need to consider increases by one increment\n",
    "    # per period.\n",
    "    elif policy_state > period:\n",
    "        return False\n",
    "    else:\n",
    "        return True\n",
    "    "
   ]
  },
  {
   "cell_type": "code",
   "execution_count": 5,
   "id": "8e534f3e",
   "metadata": {
    "ExecuteTime": {
     "end_time": "2023-11-14T14:52:06.749865234Z",
     "start_time": "2023-11-14T14:52:06.739996508Z"
    }
   },
   "outputs": [],
   "source": [
    "def update_state_space(\n",
    "        period, choice, lagged_choice, policy_state, retirement_age_id, experience, options\n",
    "):\n",
    "    next_state = dict()\n",
    "\n",
    "    next_state[\"period\"] = period + 1\n",
    "    next_state[\"lagged_choice\"] = choice\n",
    "    \n",
    "    age = period + options[\"start_age\"]\n",
    "\n",
    "    if age < options[\"resolution_age\"]:\n",
    "        next_state[\"policy_state\"] = policy_state + 1\n",
    "    else: \n",
    "        next_state[\"policy_state\"] = policy_state\n",
    "\n",
    "    if lagged_choice == 2: # Retirement\n",
    "        next_state[\"retirement_age_id\"] = retirement_age_id\n",
    "    elif choice == 2: # Retirement \n",
    "        next_state[\"retirement_age_id\"] = age - options[\"min_retirement_age\"]\n",
    "\n",
    "    if choice == 1: # Work\n",
    "        next_state[\"experience\"] = experience + 1\n",
    "\n",
    "    return next_state"
   ]
  },
  {
   "cell_type": "code",
   "execution_count": 6,
   "id": "cd81c320",
   "metadata": {
    "ExecuteTime": {
     "end_time": "2023-11-14T14:52:07.307385318Z",
     "start_time": "2023-11-14T14:52:07.301098330Z"
    }
   },
   "outputs": [],
   "source": [
    "def state_specific_choice_set(period, lagged_choice, policy_state, options):\n",
    "    \n",
    "    age = period + options[\"start_age\"]\n",
    "    min_individual_retirement_age = options[\"min_retirement_age\"] + policy_state * options[\"belief_update_increment\"]\n",
    "\n",
    "    if age < min_individual_retirement_age:\n",
    "        return np.array([0,1])\n",
    "    elif age >= options[\"max_retirement_age\"]:\n",
    "        return np.array([2])\n",
    "    elif lagged_choice == 2: # retirement is absorbing\n",
    "        return np.array([2])\n",
    "    else:\n",
    "        return np.array([0,1,2])"
   ]
  },
  {
   "cell_type": "code",
   "execution_count": 7,
   "id": "3f7b1ed1",
   "metadata": {
    "ExecuteTime": {
     "end_time": "2023-11-14T14:52:08.525515183Z",
     "start_time": "2023-11-14T14:52:08.510535922Z"
    }
   },
   "outputs": [
    {
     "data": {
      "text/plain": "array([0, 1])"
     },
     "execution_count": 7,
     "metadata": {},
     "output_type": "execute_result"
    }
   ],
   "source": [
    "state_specific_choice_set(38, 0, 20, options_test[\"model_params\"])"
   ]
  },
  {
   "cell_type": "code",
   "execution_count": 8,
   "id": "89cfb96a",
   "metadata": {
    "ExecuteTime": {
     "end_time": "2023-11-14T14:52:09.348057227Z",
     "start_time": "2023-11-14T14:52:09.185811635Z"
    }
   },
   "outputs": [],
   "source": [
    "state_space_functions = {\n",
    "    \"update_endog_state_by_state_and_choice\": update_state_space,\n",
    "    \"get_state_specific_choice_set\": state_specific_choice_set,\n",
    "}"
   ]
  },
  {
   "cell_type": "code",
   "execution_count": 9,
   "id": "a4111570",
   "metadata": {
    "ExecuteTime": {
     "end_time": "2023-11-14T14:52:09.916348356Z",
     "start_time": "2023-11-14T14:52:09.909938453Z"
    }
   },
   "outputs": [],
   "source": [
    "# put sparsity condition into endogenous states dict within options\n",
    "options_test[\"state_space\"][\"endogenous_states\"][\"sparsity_condition\"] = sparsity_condition"
   ]
  },
  {
   "cell_type": "code",
   "execution_count": 10,
   "id": "819120ce",
   "metadata": {
    "ExecuteTime": {
     "end_time": "2023-11-14T14:52:46.782089818Z",
     "start_time": "2023-11-14T14:52:11.472888171Z"
    }
   },
   "outputs": [],
   "source": [
    "# test sparsity condition\n",
    "state_space_df = inspect_state_space(options_test)"
   ]
  },
  {
   "cell_type": "code",
   "execution_count": 11,
   "id": "9698d008",
   "metadata": {
    "ExecuteTime": {
     "end_time": "2023-11-14T14:52:54.758341863Z",
     "start_time": "2023-11-14T14:52:54.722247702Z"
    }
   },
   "outputs": [
    {
     "data": {
      "text/plain": "         period  lagged_choice  experience  policy_state  retirement_age_id  \\\n0             0              0           0             0                  0   \n18360         0              1           0             0                  0   \n55080         1              0           0             0                  0   \n55081         1              0           0             1                  0   \n73440         1              1           0             0                  0   \n...         ...            ...         ...           ...                ...   \n2809039      50              2          49            31                  9   \n2809040      50              2          49            32                  9   \n2809041      50              2          49            33                  9   \n2809042      50              2          49            34                  9   \n2809043      50              2          49            35                  9   \n\n         dummy_exog  is_feasible  \n0                 0         True  \n18360             0         True  \n55080             0         True  \n55081             0         True  \n73440             0         True  \n...             ...          ...  \n2809039           0         True  \n2809040           0         True  \n2809041           0         True  \n2809042           0         True  \n2809043           0         True  \n\n[192775 rows x 7 columns]",
      "text/html": "<div>\n<style scoped>\n    .dataframe tbody tr th:only-of-type {\n        vertical-align: middle;\n    }\n\n    .dataframe tbody tr th {\n        vertical-align: top;\n    }\n\n    .dataframe thead th {\n        text-align: right;\n    }\n</style>\n<table border=\"1\" class=\"dataframe\">\n  <thead>\n    <tr style=\"text-align: right;\">\n      <th></th>\n      <th>period</th>\n      <th>lagged_choice</th>\n      <th>experience</th>\n      <th>policy_state</th>\n      <th>retirement_age_id</th>\n      <th>dummy_exog</th>\n      <th>is_feasible</th>\n    </tr>\n  </thead>\n  <tbody>\n    <tr>\n      <th>0</th>\n      <td>0</td>\n      <td>0</td>\n      <td>0</td>\n      <td>0</td>\n      <td>0</td>\n      <td>0</td>\n      <td>True</td>\n    </tr>\n    <tr>\n      <th>18360</th>\n      <td>0</td>\n      <td>1</td>\n      <td>0</td>\n      <td>0</td>\n      <td>0</td>\n      <td>0</td>\n      <td>True</td>\n    </tr>\n    <tr>\n      <th>55080</th>\n      <td>1</td>\n      <td>0</td>\n      <td>0</td>\n      <td>0</td>\n      <td>0</td>\n      <td>0</td>\n      <td>True</td>\n    </tr>\n    <tr>\n      <th>55081</th>\n      <td>1</td>\n      <td>0</td>\n      <td>0</td>\n      <td>1</td>\n      <td>0</td>\n      <td>0</td>\n      <td>True</td>\n    </tr>\n    <tr>\n      <th>73440</th>\n      <td>1</td>\n      <td>1</td>\n      <td>0</td>\n      <td>0</td>\n      <td>0</td>\n      <td>0</td>\n      <td>True</td>\n    </tr>\n    <tr>\n      <th>...</th>\n      <td>...</td>\n      <td>...</td>\n      <td>...</td>\n      <td>...</td>\n      <td>...</td>\n      <td>...</td>\n      <td>...</td>\n    </tr>\n    <tr>\n      <th>2809039</th>\n      <td>50</td>\n      <td>2</td>\n      <td>49</td>\n      <td>31</td>\n      <td>9</td>\n      <td>0</td>\n      <td>True</td>\n    </tr>\n    <tr>\n      <th>2809040</th>\n      <td>50</td>\n      <td>2</td>\n      <td>49</td>\n      <td>32</td>\n      <td>9</td>\n      <td>0</td>\n      <td>True</td>\n    </tr>\n    <tr>\n      <th>2809041</th>\n      <td>50</td>\n      <td>2</td>\n      <td>49</td>\n      <td>33</td>\n      <td>9</td>\n      <td>0</td>\n      <td>True</td>\n    </tr>\n    <tr>\n      <th>2809042</th>\n      <td>50</td>\n      <td>2</td>\n      <td>49</td>\n      <td>34</td>\n      <td>9</td>\n      <td>0</td>\n      <td>True</td>\n    </tr>\n    <tr>\n      <th>2809043</th>\n      <td>50</td>\n      <td>2</td>\n      <td>49</td>\n      <td>35</td>\n      <td>9</td>\n      <td>0</td>\n      <td>True</td>\n    </tr>\n  </tbody>\n</table>\n<p>192775 rows × 7 columns</p>\n</div>"
     },
     "execution_count": 11,
     "metadata": {},
     "output_type": "execute_result"
    }
   ],
   "source": [
    "state_space_df.head(1000)\n",
    "state_space_df[state_space_df.is_feasible]"
   ]
  },
  {
   "cell_type": "markdown",
   "id": "89b5f202-8a70-4f60-a12e-86befcf2c5bd",
   "metadata": {},
   "source": [
    "# Utility funcs"
   ]
  },
  {
   "cell_type": "code",
   "execution_count": 12,
   "id": "84fd7758-22e9-4828-861f-e7f0a9784740",
   "metadata": {
    "ExecuteTime": {
     "end_time": "2023-11-14T14:53:04.262193713Z",
     "start_time": "2023-11-14T14:53:04.254333533Z"
    }
   },
   "outputs": [],
   "source": [
    "def utility_func(consumption, choice, params_dict):\n",
    "    mu = params_dict[\"mu\"]\n",
    "    delta = params_dict[\"delta\"]\n",
    "    is_working = choice == 1\n",
    "    utility = consumption ** (1- mu) / (1 - mu) - delta * is_working\n",
    "    return utility\n",
    "\n",
    "\n",
    "def marg_utility(consumption, params_dict):\n",
    "    mu = params_dict[\"mu\"]\n",
    "    marg_util = consumption ** -mu\n",
    "    return marg_util\n",
    "\n",
    "\n",
    "def inverse_marginal(marginal_utility, params_dict):\n",
    "    mu = params_dict[\"mu\"]\n",
    "    return marginal_utility ** (-1/mu)\n",
    "\n",
    "\n",
    "utility_functions = {\n",
    "        \"utility\": utility_func,\n",
    "        \"inverse_marginal_utility\": inverse_marginal,\n",
    "        \"marginal_utility\": marg_utility,\n",
    "    }\n",
    "    "
   ]
  },
  {
   "cell_type": "markdown",
   "id": "5798bb80",
   "metadata": {},
   "source": [
    "# Last Period Utility (e.g. Bequest)"
   ]
  },
  {
   "cell_type": "code",
   "execution_count": 13,
   "id": "7592f38d",
   "metadata": {
    "ExecuteTime": {
     "end_time": "2023-11-14T14:53:05.310720219Z",
     "start_time": "2023-11-14T14:53:05.306084322Z"
    }
   },
   "outputs": [],
   "source": [
    "def solve_final_period_scalar(\n",
    "    choice,\n",
    "    begin_of_period_resources,\n",
    "    params,\n",
    "    options,\n",
    "    compute_utility,\n",
    "    compute_marginal_utility,\n",
    "):\n",
    "    \"\"\"Compute optimal consumption policy and value function in the final period.\n",
    "\n",
    "    In the last period, everything is consumed, i.e. consumption = savings.\n",
    "\n",
    "    Args:\n",
    "        state (np.ndarray): 1d array of shape (n_state_variables,) containing the\n",
    "            period-specific state vector.\n",
    "        choice (int): The agent's choice in the current period.\n",
    "        begin_of_period_resources (float): The agent's begin of period resources.\n",
    "        compute_utility (callable): Function for computation of agent's utility.\n",
    "        compute_marginal_utility (callable): Function for computation of agent's\n",
    "        params (dict): Dictionary of model parameters.\n",
    "        options (dict): Options dictionary.\n",
    "\n",
    "    Returns:\n",
    "        tuple:\n",
    "\n",
    "        - consumption (float): The agent's consumption in the final period.\n",
    "        - value (float): The agent's value in the final period.\n",
    "        - marginal_utility (float): The agent's marginal utility .\n",
    "\n",
    "    \"\"\"\n",
    "    \n",
    "    # eat everything\n",
    "    consumption = begin_of_period_resources\n",
    "    \n",
    "    # utility & marginal utility of eating everything\n",
    "    value = compute_utility(consumption=begin_of_period_resources, choice=choice, params_dict=params)\n",
    "    \n",
    "    marginal_utility = compute_marginal_utility(\n",
    "        consumption=begin_of_period_resources, params_dict=params\n",
    "    )\n",
    "\n",
    "    return marginal_utility, value, consumption"
   ]
  },
  {
   "cell_type": "markdown",
   "id": "30dfddcb",
   "metadata": {},
   "source": [
    "# Budget Equation"
   ]
  },
  {
   "cell_type": "code",
   "execution_count": 14,
   "id": "fc958db6-5350-44ea-bea1-254eecc64c11",
   "metadata": {
    "ExecuteTime": {
     "end_time": "2023-11-14T14:53:06.479698312Z",
     "start_time": "2023-11-14T14:53:06.478362154Z"
    }
   },
   "outputs": [],
   "source": [
    "def budget_constraint(lagged_choice, # d_{t-1}\n",
    "                      experience, \n",
    "                      policy_state, # current applicable SRA identifyer\n",
    "                      retirement_age_id,  \n",
    "                      savings_end_of_previous_period, # A_{t-1}\n",
    "                      income_shock_previous_period, # epsilon_{t - 1}\n",
    "                      params,\n",
    "                      options):\n",
    "    \n",
    "    \n",
    "    # fetch necessary parameters (gammas for wage, pension_point_value & ERP for pension)\n",
    "    gamma_0 = options[\"gamma_0\"]\n",
    "    gamma_1 = options[\"gamma_1\"]\n",
    "    gamma_2 = options[\"gamma_2\"]\n",
    "    pension_point_value = options[\"pension_point_value\"]\n",
    "    ERP = options[\"early_retirement_penalty\"]\n",
    "    \n",
    "    # generate actual retirement age and SRA at resolution\n",
    "    SRA_at_resolution = options[\"mininum_SRA\"] + policy_state*options[\"belief_update_increment\"]\n",
    "    actual_retirement_age = options[\"min_retirement_age\"] + retirement_age_id\n",
    "        \n",
    "    # calculate applicable SRA and pension deduction/increase factor \n",
    "    # (malus for early retirement, bonus for late retirement)\n",
    "    \n",
    "    pension_factor = 1 - (actual_retirement_age - SRA_at_resolution)*ERP \n",
    "    \n",
    "    # decision bools\n",
    "    is_unemployed = lagged_choice==0 \n",
    "    is_worker = lagged_choice==1\n",
    "    is_retired = lagged_choice==2\n",
    "    \n",
    "    # decision-specific income\n",
    "    unemployment_benefits = options[\"unemployment_benefits\"]\n",
    "    labor_income = gamma_0 + gamma_1*experience + gamma_2*experience**2 + income_shock_previous_period \n",
    "    retirement_income = pension_point_value * experience * pension_factor \n",
    "    \n",
    "    income = is_unemployed * unemployment_benefits + is_worker * labor_income + is_retired * retirement_income\n",
    "    \n",
    "    # calculate beginning of period wealth M_t\n",
    "    wealth = (1 + params[\"interest_rate\"]) * savings_end_of_previous_period + income\n",
    "    \n",
    "    return wealth\n",
    "    "
   ]
  },
  {
   "cell_type": "markdown",
   "id": "01642af3",
   "metadata": {},
   "source": [
    "# Tests: State Space and Budget "
   ]
  },
  {
   "cell_type": "code",
   "execution_count": 15,
   "id": "b1c2a046",
   "metadata": {
    "ExecuteTime": {
     "end_time": "2023-11-14T14:53:07.615154329Z",
     "start_time": "2023-11-14T14:53:07.572279484Z"
    }
   },
   "outputs": [],
   "source": [
    "# # state-space test\n",
    "\n",
    "# budget_constraint(state_beginning_of_period=state_space[47226,:], # s_t, with d_{t-1} at s_t[1]\n",
    "#                       savings_end_of_previous_period=10, # A_{t-1}\n",
    "#                       income_shock_previous_period=0.5, # epsilon_{t - 1}\n",
    "#                       params=params_dict_test,\n",
    "#                       options=options_test)\n"
   ]
  },
  {
   "cell_type": "markdown",
   "id": "95bb78b5",
   "metadata": {},
   "source": [
    "# Exogenous Savings Grid"
   ]
  },
  {
   "cell_type": "code",
   "execution_count": 16,
   "id": "816707a7",
   "metadata": {
    "ExecuteTime": {
     "end_time": "2023-11-14T14:53:08.482752313Z",
     "start_time": "2023-11-14T14:53:08.430978008Z"
    }
   },
   "outputs": [],
   "source": [
    "savings_grid=jnp.arange(start=0,stop=100,step=0.5)"
   ]
  },
  {
   "cell_type": "markdown",
   "id": "f5d574bd",
   "metadata": {},
   "source": [
    "# Call DCEGM"
   ]
  },
  {
   "cell_type": "code",
   "execution_count": 17,
   "id": "d9f53c96-2e0a-4163-bc92-54f5ec090998",
   "metadata": {
    "ExecuteTime": {
     "end_time": "2023-11-14T14:53:09.866590546Z",
     "start_time": "2023-11-14T14:53:09.824181242Z"
    }
   },
   "outputs": [],
   "source": [
    "#get_solve_function?"
   ]
  },
  {
   "cell_type": "code",
   "execution_count": 18,
   "id": "b9da4ad7",
   "metadata": {
    "ExecuteTime": {
     "end_time": "2023-11-14T14:53:33.857924981Z",
     "start_time": "2023-11-14T14:53:15.666313894Z"
    }
   },
   "outputs": [],
   "source": [
    "solve_func = get_solve_function(options=options_test, \n",
    "                  exog_savings_grid=savings_grid,\n",
    "                  utility_functions=utility_functions,\n",
    "                  budget_constraint=budget_constraint,\n",
    "                  state_space_functions=state_space_functions,\n",
    "                  final_period_solution=solve_final_period_scalar,\n",
    "                  )"
   ]
  },
  {
   "cell_type": "code",
   "execution_count": 19,
   "id": "098d5a4a",
   "metadata": {
    "ExecuteTime": {
     "end_time": "2023-11-14T14:55:29.395989566Z",
     "start_time": "2023-11-14T14:55:28.246550429Z"
    }
   },
   "outputs": [
    {
     "ename": "KeyError",
     "evalue": "'mininum_SRA'",
     "output_type": "error",
     "traceback": [
      "\u001B[0;31m---------------------------------------------------------------------------\u001B[0m",
      "\u001B[0;31mKeyError\u001B[0m                                  Traceback (most recent call last)",
      "Cell \u001B[0;32mIn[19], line 1\u001B[0m\n\u001B[0;32m----> 1\u001B[0m \u001B[43msolve_func\u001B[49m\u001B[43m(\u001B[49m\u001B[43mparams_dict_test\u001B[49m\u001B[43m)\u001B[49m\n",
      "File \u001B[0;32m~/Uni/pol_uncetainty/structural/model_development/submodules/dc-egm/src/dcegm/solve.py:158\u001B[0m, in \u001B[0;36mget_solve_function.<locals>.solve_func\u001B[0;34m(params)\u001B[0m\n\u001B[1;32m    156\u001B[0m \u001B[38;5;28;01mdef\u001B[39;00m \u001B[38;5;21msolve_func\u001B[39m(params):\n\u001B[1;32m    157\u001B[0m     params_initial \u001B[38;5;241m=\u001B[39m process_params(params)\n\u001B[0;32m--> 158\u001B[0m     \u001B[38;5;28;01mreturn\u001B[39;00m \u001B[43mbackward_jit\u001B[49m\u001B[43m(\u001B[49m\u001B[43mparams\u001B[49m\u001B[38;5;241;43m=\u001B[39;49m\u001B[43mparams_initial\u001B[49m\u001B[43m)\u001B[49m\n",
      "    \u001B[0;31m[... skipping hidden 12 frame]\u001B[0m\n",
      "File \u001B[0;32m~/Uni/pol_uncetainty/structural/model_development/submodules/dc-egm/src/dcegm/solve.py:241\u001B[0m, in \u001B[0;36mbackward_induction\u001B[0;34m(params, period_specific_state_objects, exog_savings_grid, state_space, income_shock_draws_unscaled, income_shock_weights, n_periods, model_funcs, compute_upper_envelope)\u001B[0m\n\u001B[1;32m    174\u001B[0m \u001B[38;5;250m\u001B[39m\u001B[38;5;124;03m\"\"\"Do backward induction and solve for optimal policy and value function.\u001B[39;00m\n\u001B[1;32m    175\u001B[0m \n\u001B[1;32m    176\u001B[0m \u001B[38;5;124;03mArgs:\u001B[39;00m\n\u001B[0;32m   (...)\u001B[0m\n\u001B[1;32m    236\u001B[0m \n\u001B[1;32m    237\u001B[0m \u001B[38;5;124;03m\"\"\"\u001B[39;00m\n\u001B[1;32m    239\u001B[0m taste_shock_scale \u001B[38;5;241m=\u001B[39m params[\u001B[38;5;124m\"\u001B[39m\u001B[38;5;124mlambda\u001B[39m\u001B[38;5;124m\"\u001B[39m]\n\u001B[0;32m--> 241\u001B[0m resources_beginning_of_period \u001B[38;5;241m=\u001B[39m \u001B[43mcalculate_resources\u001B[49m\u001B[43m(\u001B[49m\n\u001B[1;32m    242\u001B[0m \u001B[43m    \u001B[49m\u001B[43mstate_space\u001B[49m\u001B[43m,\u001B[49m\n\u001B[1;32m    243\u001B[0m \u001B[43m    \u001B[49m\u001B[43mexog_savings_grid\u001B[49m\u001B[43m,\u001B[49m\n\u001B[1;32m    244\u001B[0m \u001B[43m    \u001B[49m\u001B[43mincome_shock_draws_unscaled\u001B[49m\u001B[43m,\u001B[49m\n\u001B[1;32m    245\u001B[0m \u001B[43m    \u001B[49m\u001B[43mparams\u001B[49m\u001B[43m,\u001B[49m\n\u001B[1;32m    246\u001B[0m \u001B[43m    \u001B[49m\u001B[43mmodel_funcs\u001B[49m\u001B[43m[\u001B[49m\u001B[38;5;124;43m\"\u001B[39;49m\u001B[38;5;124;43mcompute_beginning_of_period_wealth\u001B[39;49m\u001B[38;5;124;43m\"\u001B[39;49m\u001B[43m]\u001B[49m\u001B[43m,\u001B[49m\n\u001B[1;32m    247\u001B[0m \u001B[43m\u001B[49m\u001B[43m)\u001B[49m\n\u001B[1;32m    249\u001B[0m (\n\u001B[1;32m    250\u001B[0m     final_period_results,\n\u001B[1;32m    251\u001B[0m     marg_util_interpolated,\n\u001B[0;32m   (...)\u001B[0m\n\u001B[1;32m    257\u001B[0m     params\u001B[38;5;241m=\u001B[39mparams,\n\u001B[1;32m    258\u001B[0m )\n\u001B[1;32m    260\u001B[0m results \u001B[38;5;241m=\u001B[39m {}\n",
      "File \u001B[0;32m~/Uni/pol_uncetainty/structural/model_development/submodules/dc-egm/src/dcegm/budget.py:12\u001B[0m, in \u001B[0;36mcalculate_resources\u001B[0;34m(state_space, exog_savings_grid, income_shock_draws_unscaled, params, compute_beginning_of_period_wealth)\u001B[0m\n\u001B[1;32m      4\u001B[0m \u001B[38;5;28;01mdef\u001B[39;00m \u001B[38;5;21mcalculate_resources\u001B[39m(\n\u001B[1;32m      5\u001B[0m     state_space,\n\u001B[1;32m      6\u001B[0m     exog_savings_grid,\n\u001B[0;32m   (...)\u001B[0m\n\u001B[1;32m      9\u001B[0m     compute_beginning_of_period_wealth,\n\u001B[1;32m     10\u001B[0m ):\n\u001B[1;32m     11\u001B[0m     income_shock_draws \u001B[38;5;241m=\u001B[39m income_shock_draws_unscaled \u001B[38;5;241m*\u001B[39m params[\u001B[38;5;124m\"\u001B[39m\u001B[38;5;124msigma\u001B[39m\u001B[38;5;124m\"\u001B[39m]\n\u001B[0;32m---> 12\u001B[0m     resources_beginning_of_period \u001B[38;5;241m=\u001B[39m \u001B[43mvmap\u001B[49m\u001B[43m(\u001B[49m\n\u001B[1;32m     13\u001B[0m \u001B[43m        \u001B[49m\u001B[43mvmap\u001B[49m\u001B[43m(\u001B[49m\n\u001B[1;32m     14\u001B[0m \u001B[43m            \u001B[49m\u001B[43mvmap\u001B[49m\u001B[43m(\u001B[49m\n\u001B[1;32m     15\u001B[0m \u001B[43m                \u001B[49m\u001B[43mcalculate_resources_for_each_grid_point\u001B[49m\u001B[43m,\u001B[49m\n\u001B[1;32m     16\u001B[0m \u001B[43m                \u001B[49m\u001B[43min_axes\u001B[49m\u001B[38;5;241;43m=\u001B[39;49m\u001B[43m(\u001B[49m\u001B[38;5;28;43;01mNone\u001B[39;49;00m\u001B[43m,\u001B[49m\u001B[43m \u001B[49m\u001B[38;5;28;43;01mNone\u001B[39;49;00m\u001B[43m,\u001B[49m\u001B[43m \u001B[49m\u001B[38;5;241;43m0\u001B[39;49m\u001B[43m,\u001B[49m\u001B[43m \u001B[49m\u001B[38;5;28;43;01mNone\u001B[39;49;00m\u001B[43m,\u001B[49m\u001B[43m \u001B[49m\u001B[38;5;28;43;01mNone\u001B[39;49;00m\u001B[43m)\u001B[49m\u001B[43m,\u001B[49m\n\u001B[1;32m     17\u001B[0m \u001B[43m            \u001B[49m\u001B[43m)\u001B[49m\u001B[43m,\u001B[49m\n\u001B[1;32m     18\u001B[0m \u001B[43m            \u001B[49m\u001B[43min_axes\u001B[49m\u001B[38;5;241;43m=\u001B[39;49m\u001B[43m(\u001B[49m\u001B[38;5;28;43;01mNone\u001B[39;49;00m\u001B[43m,\u001B[49m\u001B[43m \u001B[49m\u001B[38;5;241;43m0\u001B[39;49m\u001B[43m,\u001B[49m\u001B[43m \u001B[49m\u001B[38;5;28;43;01mNone\u001B[39;49;00m\u001B[43m,\u001B[49m\u001B[43m \u001B[49m\u001B[38;5;28;43;01mNone\u001B[39;49;00m\u001B[43m,\u001B[49m\u001B[43m \u001B[49m\u001B[38;5;28;43;01mNone\u001B[39;49;00m\u001B[43m)\u001B[49m\u001B[43m,\u001B[49m\n\u001B[1;32m     19\u001B[0m \u001B[43m        \u001B[49m\u001B[43m)\u001B[49m\u001B[43m,\u001B[49m\n\u001B[1;32m     20\u001B[0m \u001B[43m        \u001B[49m\u001B[43min_axes\u001B[49m\u001B[38;5;241;43m=\u001B[39;49m\u001B[43m(\u001B[49m\u001B[38;5;241;43m0\u001B[39;49m\u001B[43m,\u001B[49m\u001B[43m \u001B[49m\u001B[38;5;28;43;01mNone\u001B[39;49;00m\u001B[43m,\u001B[49m\u001B[43m \u001B[49m\u001B[38;5;28;43;01mNone\u001B[39;49;00m\u001B[43m,\u001B[49m\u001B[43m \u001B[49m\u001B[38;5;28;43;01mNone\u001B[39;49;00m\u001B[43m,\u001B[49m\u001B[43m \u001B[49m\u001B[38;5;28;43;01mNone\u001B[39;49;00m\u001B[43m)\u001B[49m\u001B[43m,\u001B[49m\n\u001B[1;32m     21\u001B[0m \u001B[43m    \u001B[49m\u001B[43m)\u001B[49m\u001B[43m(\u001B[49m\n\u001B[1;32m     22\u001B[0m \u001B[43m        \u001B[49m\u001B[43mstate_space\u001B[49m\u001B[43m,\u001B[49m\n\u001B[1;32m     23\u001B[0m \u001B[43m        \u001B[49m\u001B[43mexog_savings_grid\u001B[49m\u001B[43m,\u001B[49m\n\u001B[1;32m     24\u001B[0m \u001B[43m        \u001B[49m\u001B[43mincome_shock_draws\u001B[49m\u001B[43m,\u001B[49m\n\u001B[1;32m     25\u001B[0m \u001B[43m        \u001B[49m\u001B[43mparams\u001B[49m\u001B[43m,\u001B[49m\n\u001B[1;32m     26\u001B[0m \u001B[43m        \u001B[49m\u001B[43mcompute_beginning_of_period_wealth\u001B[49m\u001B[43m,\u001B[49m\n\u001B[1;32m     27\u001B[0m \u001B[43m    \u001B[49m\u001B[43m)\u001B[49m\n\u001B[1;32m     28\u001B[0m     \u001B[38;5;28;01mreturn\u001B[39;00m resources_beginning_of_period\n",
      "    \u001B[0;31m[... skipping hidden 9 frame]\u001B[0m\n",
      "File \u001B[0;32m~/Uni/pol_uncetainty/structural/model_development/submodules/dc-egm/src/dcegm/budget.py:38\u001B[0m, in \u001B[0;36mcalculate_resources_for_each_grid_point\u001B[0;34m(state_vec, exog_savings_grid_point, income_shock_draw, params, compute_beginning_of_period_wealth)\u001B[0m\n\u001B[1;32m     31\u001B[0m \u001B[38;5;28;01mdef\u001B[39;00m \u001B[38;5;21mcalculate_resources_for_each_grid_point\u001B[39m(\n\u001B[1;32m     32\u001B[0m     state_vec,\n\u001B[1;32m     33\u001B[0m     exog_savings_grid_point,\n\u001B[0;32m   (...)\u001B[0m\n\u001B[1;32m     36\u001B[0m     compute_beginning_of_period_wealth,\n\u001B[1;32m     37\u001B[0m ):\n\u001B[0;32m---> 38\u001B[0m     out \u001B[38;5;241m=\u001B[39m \u001B[43mcompute_beginning_of_period_wealth\u001B[49m\u001B[43m(\u001B[49m\n\u001B[1;32m     39\u001B[0m \u001B[43m        \u001B[49m\u001B[38;5;241;43m*\u001B[39;49m\u001B[38;5;241;43m*\u001B[39;49m\u001B[43mstate_vec\u001B[49m\u001B[43m,\u001B[49m\n\u001B[1;32m     40\u001B[0m \u001B[43m        \u001B[49m\u001B[43msavings_end_of_previous_period\u001B[49m\u001B[38;5;241;43m=\u001B[39;49m\u001B[43mexog_savings_grid_point\u001B[49m\u001B[43m,\u001B[49m\n\u001B[1;32m     41\u001B[0m \u001B[43m        \u001B[49m\u001B[43mincome_shock_previous_period\u001B[49m\u001B[38;5;241;43m=\u001B[39;49m\u001B[43mincome_shock_draw\u001B[49m\u001B[43m,\u001B[49m\n\u001B[1;32m     42\u001B[0m \u001B[43m        \u001B[49m\u001B[43mparams\u001B[49m\u001B[38;5;241;43m=\u001B[39;49m\u001B[43mparams\u001B[49m\u001B[43m,\u001B[49m\n\u001B[1;32m     43\u001B[0m \u001B[43m    \u001B[49m\u001B[43m)\u001B[49m\n\u001B[1;32m     44\u001B[0m     \u001B[38;5;28;01mreturn\u001B[39;00m out\n",
      "File \u001B[0;32m~/Uni/pol_uncetainty/structural/model_development/submodules/dc-egm/src/dcegm/pre_processing/shared.py:24\u001B[0m, in \u001B[0;36mdetermine_function_arguments_and_partial_options.<locals>.processed_func\u001B[0;34m(**kwargs)\u001B[0m\n\u001B[1;32m     20\u001B[0m \u001B[38;5;129m@functools\u001B[39m\u001B[38;5;241m.\u001B[39mwraps(func)\n\u001B[1;32m     21\u001B[0m \u001B[38;5;28;01mdef\u001B[39;00m \u001B[38;5;21mprocessed_func\u001B[39m(\u001B[38;5;241m*\u001B[39m\u001B[38;5;241m*\u001B[39mkwargs):\n\u001B[1;32m     22\u001B[0m     func_kwargs \u001B[38;5;241m=\u001B[39m {key: kwargs[key] \u001B[38;5;28;01mfor\u001B[39;00m key \u001B[38;5;129;01min\u001B[39;00m signature}\n\u001B[0;32m---> 24\u001B[0m     \u001B[38;5;28;01mreturn\u001B[39;00m \u001B[43mpartialed_func\u001B[49m\u001B[43m(\u001B[49m\u001B[38;5;241;43m*\u001B[39;49m\u001B[38;5;241;43m*\u001B[39;49m\u001B[43mfunc_kwargs\u001B[49m\u001B[43m)\u001B[49m\n",
      "Cell \u001B[0;32mIn[14], line 19\u001B[0m, in \u001B[0;36mbudget_constraint\u001B[0;34m(lagged_choice, experience, policy_state, retirement_age_id, savings_end_of_previous_period, income_shock_previous_period, params, options)\u001B[0m\n\u001B[1;32m     16\u001B[0m ERP \u001B[38;5;241m=\u001B[39m options[\u001B[38;5;124m\"\u001B[39m\u001B[38;5;124mearly_retirement_penalty\u001B[39m\u001B[38;5;124m\"\u001B[39m]\n\u001B[1;32m     18\u001B[0m \u001B[38;5;66;03m# generate actual retirement age and SRA at resolution\u001B[39;00m\n\u001B[0;32m---> 19\u001B[0m SRA_at_resolution \u001B[38;5;241m=\u001B[39m \u001B[43moptions\u001B[49m\u001B[43m[\u001B[49m\u001B[38;5;124;43m\"\u001B[39;49m\u001B[38;5;124;43mmininum_SRA\u001B[39;49m\u001B[38;5;124;43m\"\u001B[39;49m\u001B[43m]\u001B[49m \u001B[38;5;241m+\u001B[39m policy_state\u001B[38;5;241m*\u001B[39moptions[\u001B[38;5;124m\"\u001B[39m\u001B[38;5;124mbelief_update_increment\u001B[39m\u001B[38;5;124m\"\u001B[39m]\n\u001B[1;32m     20\u001B[0m actual_retirement_age \u001B[38;5;241m=\u001B[39m options[\u001B[38;5;124m\"\u001B[39m\u001B[38;5;124mmin_retirement_age\u001B[39m\u001B[38;5;124m\"\u001B[39m] \u001B[38;5;241m+\u001B[39m retirement_age_id\n\u001B[1;32m     22\u001B[0m \u001B[38;5;66;03m# calculate applicable SRA and pension deduction/increase factor \u001B[39;00m\n\u001B[1;32m     23\u001B[0m \u001B[38;5;66;03m# (malus for early retirement, bonus for late retirement)\u001B[39;00m\n",
      "\u001B[0;31mKeyError\u001B[0m: 'mininum_SRA'"
     ]
    }
   ],
   "source": [
    "solve_func(params_dict_test)"
   ]
  }
 ],
 "metadata": {
  "kernelspec": {
   "display_name": "Python 3 (ipykernel)",
   "language": "python",
   "name": "python3"
  },
  "language_info": {
   "codemirror_mode": {
    "name": "ipython",
    "version": 3
   },
   "file_extension": ".py",
   "mimetype": "text/x-python",
   "name": "python",
   "nbconvert_exporter": "python",
   "pygments_lexer": "ipython3",
   "version": "3.10.4"
  }
 },
 "nbformat": 4,
 "nbformat_minor": 5
}
