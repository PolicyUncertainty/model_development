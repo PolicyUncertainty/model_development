{
 "cells": [
  {
   "cell_type": "code",
   "execution_count": 1,
   "id": "cf03a3e8-ed6d-4acd-9bef-881a295b9a7e",
   "metadata": {
    "ExecuteTime": {
     "end_time": "2023-11-14T15:49:09.123929947Z",
     "start_time": "2023-11-14T15:49:08.554833945Z"
    }
   },
   "outputs": [],
   "source": [
    "import sys\n",
    "sys.path.insert(0, \"submodules/dc-egm/src/\")\n",
    "import numpy as np\n",
    "import jax.numpy as jnp\n",
    "import jax"
   ]
  },
  {
   "cell_type": "code",
   "execution_count": 2,
   "id": "dfdf59e0-1c8a-4315-ab6c-1b0b5e1443c0",
   "metadata": {
    "ExecuteTime": {
     "end_time": "2023-11-14T15:49:09.817139322Z",
     "start_time": "2023-11-14T15:49:09.169955990Z"
    }
   },
   "outputs": [],
   "source": [
    "from dcegm.solve import get_solve_function\n",
    "from dcegm.pre_processing.state_space import inspect_state_space   "
   ]
  },
  {
   "cell_type": "code",
   "execution_count": 3,
   "id": "0fe132e2-26bd-40ae-b39b-b46b8131b4eb",
   "metadata": {
    "ExecuteTime": {
     "end_time": "2023-11-14T15:49:09.825572575Z",
     "start_time": "2023-11-14T15:49:09.823091087Z"
    }
   },
   "outputs": [],
   "source": [
    "start_age = 25\n",
    "end_age = 75\n",
    "n_periods = end_age - start_age + 1\n",
    "resolution_age = 60 \n",
    "max_retirement_age = 72\n",
    "minimum_SRA = 67\n",
    "# you can retire four years before minimum_SRA\n",
    "min_retirement_age = minimum_SRA - 4 \n",
    "# you can retire from min retirement age until max retirement age\t\n",
    "n_possible_retirement_ages = max_retirement_age - min_retirement_age + 1\n",
    "# when you are (start_age) years old, there can be as many policy states as there are years until (resolution_age)\n",
    "n_possible_policy_states = resolution_age - start_age + 1\n",
    "# choices: 0 = unemployment, , 1 = work, 2 = retire\n",
    "choices = np.array([0,1,2])\n",
    "\n",
    "options_test = {\n",
    "\n",
    "    \"state_space\": {\n",
    "        \"n_periods\": n_periods,\n",
    "        \"choices\": np.array([0,1,2]),\n",
    "        \"endogenous_states\": {\n",
    "            \"experience\": np.arange(n_periods, dtype=int),\n",
    "            \"policy_state\": np.arange(n_possible_policy_states, dtype=int), \n",
    "            \"retirement_age_id\": np.arange(n_possible_retirement_ages, dtype=int), \n",
    "        },\n",
    "    },\n",
    "    \"model_params\": {\n",
    "        # info from state spoace used in functions\n",
    "        \"n_periods\": n_periods, \n",
    "        \"n_possible_policy_states\": n_possible_policy_states,\n",
    "        # mandatory keywords\n",
    "        \"quadrature_points_stochastic\": 5,\n",
    "        # custom: model structure\n",
    "        \"start_age\": start_age,\n",
    "        \"resolution_age\": resolution_age,\n",
    "        # custom: policy environment\n",
    "        \"minimum_SRA\": minimum_SRA, \n",
    "        \"max_retirement_age\": max_retirement_age,\n",
    "        \"min_retirement_age\": min_retirement_age,\n",
    "        \"unemployment_benefits\": 5,\n",
    "        \"pension_point_value\": 0.3,\n",
    "        \"early_retirement_penalty\": 0.036,\n",
    "        # custom: params estimated outside model\n",
    "        \"belief_update_increment\": 0.05,\n",
    "        \"gamma_0\": 10,\n",
    "        \"gamma_1\": 1,\n",
    "        \"gamma_2\": -0.1,\n",
    "    }\n",
    "        }\n",
    "\n",
    "params_dict_test = {\n",
    "    \"mu\": 0.5, # Risk aversion\n",
    "    \"delta\": 4, # Disutility of work\n",
    "    \"interest_rate\": 0.03,\n",
    "    \"lambda\": 1e-16, # Taste shock scale/variance. Almost equal zero = no taste shocks\n",
    "    \"beta\": 0.95, # Discount factor\n",
    "    \"sigma\": 1 # Income shock scale/variance.\n",
    "}\n"
   ]
  },
  {
   "cell_type": "markdown",
   "id": "18f87e20",
   "metadata": {},
   "source": [
    "# State space - No need to be jax compatible"
   ]
  },
  {
   "cell_type": "code",
   "execution_count": 4,
   "id": "b576a9f3",
   "metadata": {
    "ExecuteTime": {
     "end_time": "2023-11-14T15:49:09.834131841Z",
     "start_time": "2023-11-14T15:49:09.831446144Z"
    }
   },
   "outputs": [],
   "source": [
    "def sparsity_condition(\n",
    "    period, lagged_choice, policy_state, retirement_age_id, experience, options\n",
    "):\n",
    "    min_ret_age = options[\"min_retirement_age\"]\n",
    "    start_age = options[\"start_age\"]\n",
    "    max_ret_age = options[\"max_retirement_age\"]\n",
    "    n_policy_states = options[\"n_possible_policy_states\"]\n",
    "\n",
    "    age = start_age + period\n",
    "    actual_retirement_age = min_ret_age + retirement_age_id\n",
    "    # You cannot retire before the earliest retirement age\n",
    "    if (age <= min_ret_age) & (lagged_choice == 2):\n",
    "        return False\n",
    "    # After the maximum retirement age, you must be retired\n",
    "    elif (age > max_ret_age) & (lagged_choice != 2):\n",
    "        return False\n",
    "    # If you weren't retired last period, your actual retirement age is kept at minimum\n",
    "    elif (lagged_choice != 2) & (retirement_age_id > 0):\n",
    "        return False\n",
    "    # If you are retired, your actual retirement age can at most be your current age\n",
    "    elif (lagged_choice == 2) & (age <= actual_retirement_age):\n",
    "        return False\n",
    "    # Starting from resolution age, there is no more adding of policy states.\n",
    "    elif policy_state > n_policy_states - 1:\n",
    "        return False\n",
    "    # If you have not worked last period, you can't have worked all your live\n",
    "    elif (lagged_choice != 1) & (period == experience) & (period > 0):\n",
    "        return False\n",
    "    # You cannot have more experience than your age\n",
    "    elif experience > period:\n",
    "        return False\n",
    "    # The policy state we need to consider increases by one increment\n",
    "    # per period.\n",
    "    elif policy_state > period:\n",
    "        return False\n",
    "    else:\n",
    "        return True\n",
    "    "
   ]
  },
  {
   "cell_type": "code",
   "execution_count": 5,
   "id": "8e534f3e",
   "metadata": {
    "ExecuteTime": {
     "end_time": "2023-11-14T15:49:09.858598377Z",
     "start_time": "2023-11-14T15:49:09.839111327Z"
    }
   },
   "outputs": [],
   "source": [
    "def update_state_space(\n",
    "        period, choice, lagged_choice, policy_state, retirement_age_id, experience, options\n",
    "):\n",
    "    next_state = dict()\n",
    "\n",
    "    next_state[\"period\"] = period + 1\n",
    "    next_state[\"lagged_choice\"] = choice\n",
    "    \n",
    "    age = period + options[\"start_age\"]\n",
    "\n",
    "    if age < options[\"resolution_age\"]:\n",
    "        next_state[\"policy_state\"] = policy_state + 1\n",
    "    else: \n",
    "        next_state[\"policy_state\"] = policy_state\n",
    "\n",
    "    if lagged_choice == 2: # Retirement\n",
    "        next_state[\"retirement_age_id\"] = retirement_age_id\n",
    "    elif choice == 2: # Retirement \n",
    "        next_state[\"retirement_age_id\"] = age - options[\"min_retirement_age\"]\n",
    "\n",
    "    if choice == 1: # Work\n",
    "        next_state[\"experience\"] = experience + 1\n",
    "\n",
    "    return next_state"
   ]
  },
  {
   "cell_type": "code",
   "execution_count": 6,
   "id": "cd81c320",
   "metadata": {
    "ExecuteTime": {
     "end_time": "2023-11-14T15:49:09.859525813Z",
     "start_time": "2023-11-14T15:49:09.843568310Z"
    }
   },
   "outputs": [],
   "source": [
    "def state_specific_choice_set(period, lagged_choice, policy_state, options):\n",
    "    \n",
    "    age = period + options[\"start_age\"]\n",
    "    min_individual_retirement_age = options[\"min_retirement_age\"] + policy_state * options[\"belief_update_increment\"]\n",
    "\n",
    "    if age < min_individual_retirement_age:\n",
    "        return np.array([0,1])\n",
    "    elif age >= options[\"max_retirement_age\"]:\n",
    "        return np.array([2])\n",
    "    elif lagged_choice == 2: # retirement is absorbing\n",
    "        return np.array([2])\n",
    "    else:\n",
    "        return np.array([0,1,2])"
   ]
  },
  {
   "cell_type": "code",
   "execution_count": 7,
   "id": "3f7b1ed1",
   "metadata": {
    "ExecuteTime": {
     "end_time": "2023-11-14T15:49:09.891049882Z",
     "start_time": "2023-11-14T15:49:09.848963660Z"
    }
   },
   "outputs": [
    {
     "data": {
      "text/plain": "array([0, 1])"
     },
     "execution_count": 7,
     "metadata": {},
     "output_type": "execute_result"
    }
   ],
   "source": [
    "state_specific_choice_set(38, 0, 20, options_test[\"model_params\"])"
   ]
  },
  {
   "cell_type": "code",
   "execution_count": 8,
   "id": "89cfb96a",
   "metadata": {
    "ExecuteTime": {
     "end_time": "2023-11-14T15:49:09.891298054Z",
     "start_time": "2023-11-14T15:49:09.890177419Z"
    }
   },
   "outputs": [],
   "source": [
    "state_space_functions = {\n",
    "    \"update_endog_state_by_state_and_choice\": update_state_space,\n",
    "    \"get_state_specific_choice_set\": state_specific_choice_set,\n",
    "}"
   ]
  },
  {
   "cell_type": "code",
   "execution_count": 9,
   "id": "a4111570",
   "metadata": {
    "ExecuteTime": {
     "end_time": "2023-11-14T15:49:09.891431692Z",
     "start_time": "2023-11-14T15:49:09.890382560Z"
    }
   },
   "outputs": [],
   "source": [
    "# put sparsity condition into endogenous states dict within options\n",
    "options_test[\"state_space\"][\"endogenous_states\"][\"sparsity_condition\"] = sparsity_condition"
   ]
  },
  {
   "cell_type": "code",
   "execution_count": 10,
   "id": "819120ce",
   "metadata": {
    "ExecuteTime": {
     "end_time": "2023-11-14T15:49:46.083838167Z",
     "start_time": "2023-11-14T15:49:09.890501532Z"
    }
   },
   "outputs": [],
   "source": [
    "# # test sparsity condition\n",
    "# state_space_df = inspect_state_space(options_test)\n",
    "# state_space_df.head(1000)\n",
    "# state_space_df[state_space_df.is_feasible]"
   ]
  },
  {
   "cell_type": "markdown",
   "id": "89b5f202-8a70-4f60-a12e-86befcf2c5bd",
   "metadata": {},
   "source": [
    "# Utility funcs"
   ]
  },
  {
   "cell_type": "code",
   "execution_count": 12,
   "id": "84fd7758-22e9-4828-861f-e7f0a9784740",
   "metadata": {
    "ExecuteTime": {
     "end_time": "2023-11-14T15:49:46.128616942Z",
     "start_time": "2023-11-14T15:49:46.126483884Z"
    }
   },
   "outputs": [],
   "source": [
    "def utility_func(consumption, choice, params):\n",
    "    mu = params[\"mu\"]\n",
    "    delta = params[\"delta\"]\n",
    "    is_working = choice == 1\n",
    "    utility = consumption ** (1- mu) / (1 - mu) - delta * is_working\n",
    "    return utility\n",
    "\n",
    "\n",
    "def marg_utility(consumption, params):\n",
    "    mu = params[\"mu\"]\n",
    "    marg_util = consumption ** -mu\n",
    "    return marg_util\n",
    "\n",
    "\n",
    "def inverse_marginal(marginal_utility, params):\n",
    "    mu = params[\"mu\"]\n",
    "    return marginal_utility ** (-1/mu)\n",
    "\n",
    "\n",
    "utility_functions = {\n",
    "        \"utility\": utility_func,\n",
    "        \"inverse_marginal_utility\": inverse_marginal,\n",
    "        \"marginal_utility\": marg_utility,\n",
    "    }\n",
    "    "
   ]
  },
  {
   "cell_type": "markdown",
   "id": "5798bb80",
   "metadata": {},
   "source": [
    "# Last Period Utility (e.g. Bequest)"
   ]
  },
  {
   "cell_type": "code",
   "execution_count": 13,
   "id": "7592f38d",
   "metadata": {
    "ExecuteTime": {
     "end_time": "2023-11-14T15:49:46.128937168Z",
     "start_time": "2023-11-14T15:49:46.126604107Z"
    }
   },
   "outputs": [],
   "source": [
    "def solve_final_period_scalar(\n",
    "    choice,\n",
    "    begin_of_period_resources,\n",
    "    params,\n",
    "    options,\n",
    "    compute_utility,\n",
    "    compute_marginal_utility,\n",
    "):\n",
    "    \"\"\"Compute optimal consumption policy and value function in the final period.\n",
    "\n",
    "    In the last period, everything is consumed, i.e. consumption = savings.\n",
    "\n",
    "    Args:\n",
    "        state (np.ndarray): 1d array of shape (n_state_variables,) containing the\n",
    "            period-specific state vector.\n",
    "        choice (int): The agent's choice in the current period.\n",
    "        begin_of_period_resources (float): The agent's begin of period resources.\n",
    "        compute_utility (callable): Function for computation of agent's utility.\n",
    "        compute_marginal_utility (callable): Function for computation of agent's\n",
    "        params (dict): Dictionary of model parameters.\n",
    "        options (dict): Options dictionary.\n",
    "\n",
    "    Returns:\n",
    "        tuple:\n",
    "\n",
    "        - consumption (float): The agent's consumption in the final period.\n",
    "        - value (float): The agent's value in the final period.\n",
    "        - marginal_utility (float): The agent's marginal utility .\n",
    "\n",
    "    \"\"\"\n",
    "    \n",
    "    # eat everything\n",
    "    consumption = begin_of_period_resources\n",
    "    \n",
    "    # utility & marginal utility of eating everything\n",
    "    value = compute_utility(consumption=begin_of_period_resources, choice=choice, params=params)\n",
    "    \n",
    "    marginal_utility = compute_marginal_utility(\n",
    "        consumption=begin_of_period_resources, params=params\n",
    "    )\n",
    "\n",
    "    return marginal_utility, value, consumption"
   ]
  },
  {
   "cell_type": "markdown",
   "id": "30dfddcb",
   "metadata": {},
   "source": [
    "# Budget Equation"
   ]
  },
  {
   "cell_type": "code",
   "execution_count": 20,
   "id": "fc958db6-5350-44ea-bea1-254eecc64c11",
   "metadata": {
    "ExecuteTime": {
     "end_time": "2023-11-14T15:55:21.399776608Z",
     "start_time": "2023-11-14T15:55:21.386129174Z"
    }
   },
   "outputs": [],
   "source": [
    "def budget_constraint(lagged_choice, # d_{t-1}\n",
    "                      experience, \n",
    "                      policy_state, # current applicable SRA identifyer\n",
    "                      retirement_age_id,  \n",
    "                      savings_end_of_previous_period, # A_{t-1}\n",
    "                      income_shock_previous_period, # epsilon_{t - 1}\n",
    "                      params,\n",
    "                      options):\n",
    "    \n",
    "    \n",
    "    # fetch necessary parameters (gammas for wage, pension_point_value & ERP for pension)\n",
    "    gamma_0 = options[\"gamma_0\"]\n",
    "    gamma_1 = options[\"gamma_1\"]\n",
    "    gamma_2 = options[\"gamma_2\"]\n",
    "    pension_point_value = options[\"pension_point_value\"]\n",
    "    ERP = options[\"early_retirement_penalty\"]\n",
    "    \n",
    "    # generate actual retirement age and SRA at resolution\n",
    "    SRA_at_resolution = options[\"minimum_SRA\"] + policy_state*options[\"belief_update_increment\"]\n",
    "    actual_retirement_age = options[\"min_retirement_age\"] + retirement_age_id\n",
    "        \n",
    "    # calculate applicable SRA and pension deduction/increase factor \n",
    "    # (malus for early retirement, bonus for late retirement)\n",
    "    \n",
    "    pension_factor = 1 - (actual_retirement_age - SRA_at_resolution)*ERP \n",
    "    \n",
    "    # decision bools\n",
    "    is_unemployed = lagged_choice==0 \n",
    "    is_worker = lagged_choice==1\n",
    "    is_retired = lagged_choice==2\n",
    "    \n",
    "    # decision-specific income\n",
    "    unemployment_benefits = options[\"unemployment_benefits\"]\n",
    "    labor_income = gamma_0 + gamma_1*experience + gamma_2*experience**2 + income_shock_previous_period \n",
    "    retirement_income = pension_point_value * experience * pension_factor \n",
    "    \n",
    "    income = is_unemployed * unemployment_benefits + is_worker * labor_income + is_retired * retirement_income\n",
    "    \n",
    "    # calculate beginning of period wealth M_t\n",
    "    wealth = (1 + params[\"interest_rate\"]) * savings_end_of_previous_period + income\n",
    "    \n",
    "    return wealth\n",
    "    "
   ]
  },
  {
   "cell_type": "markdown",
   "id": "01642af3",
   "metadata": {},
   "source": [
    "# Tests: State Space and Budget "
   ]
  },
  {
   "cell_type": "code",
   "execution_count": 15,
   "id": "b1c2a046",
   "metadata": {
    "ExecuteTime": {
     "end_time": "2023-11-14T15:49:46.196819651Z",
     "start_time": "2023-11-14T15:49:46.127770457Z"
    }
   },
   "outputs": [],
   "source": [
    "# # state-space test\n",
    "\n",
    "# budget_constraint(state_beginning_of_period=state_space[47226,:], # s_t, with d_{t-1} at s_t[1]\n",
    "#                       savings_end_of_previous_period=10, # A_{t-1}\n",
    "#                       income_shock_previous_period=0.5, # epsilon_{t - 1}\n",
    "#                       params=params_dict_test,\n",
    "#                       options=options_test)\n"
   ]
  },
  {
   "cell_type": "markdown",
   "id": "95bb78b5",
   "metadata": {},
   "source": [
    "# Exogenous Savings Grid"
   ]
  },
  {
   "cell_type": "code",
   "execution_count": 16,
   "id": "816707a7",
   "metadata": {
    "ExecuteTime": {
     "end_time": "2023-11-14T15:49:46.241548113Z",
     "start_time": "2023-11-14T15:49:46.170002966Z"
    }
   },
   "outputs": [],
   "source": [
    "savings_grid=jnp.arange(start=0,stop=100,step=0.5)"
   ]
  },
  {
   "cell_type": "markdown",
   "id": "f5d574bd",
   "metadata": {},
   "source": [
    "# Call DCEGM"
   ]
  },
  {
   "cell_type": "code",
   "execution_count": 22,
   "id": "b9da4ad7",
   "metadata": {
    "ExecuteTime": {
     "end_time": "2023-11-14T15:55:48.834435656Z",
     "start_time": "2023-11-14T15:55:30.490895345Z"
    }
   },
   "outputs": [],
   "source": [
    "solve_func = get_solve_function(options=options_test, \n",
    "                  exog_savings_grid=savings_grid,\n",
    "                  utility_functions=utility_functions,\n",
    "                  budget_constraint=budget_constraint,\n",
    "                  state_space_functions=state_space_functions,\n",
    "                  final_period_solution=solve_final_period_scalar,\n",
    "                  )"
   ]
  },
  {
   "cell_type": "code",
   "execution_count": 23,
   "id": "098d5a4a",
   "metadata": {
    "ExecuteTime": {
     "end_time": "2023-11-14T15:55:49.027171762Z",
     "start_time": "2023-11-14T15:55:48.894721036Z"
    }
   },
   "outputs": [
    {
     "ename": "KeyError",
     "evalue": "'params_dict'",
     "output_type": "error",
     "traceback": [
      "\u001B[0;31m---------------------------------------------------------------------------\u001B[0m",
      "\u001B[0;31mKeyError\u001B[0m                                  Traceback (most recent call last)",
      "Cell \u001B[0;32mIn[23], line 1\u001B[0m\n\u001B[0;32m----> 1\u001B[0m \u001B[43msolve_func\u001B[49m\u001B[43m(\u001B[49m\u001B[43mparams_dict_test\u001B[49m\u001B[43m)\u001B[49m\n",
      "File \u001B[0;32m~/Uni/pol_uncetainty/structural/model_development/submodules/dc-egm/src/dcegm/solve.py:158\u001B[0m, in \u001B[0;36mget_solve_function.<locals>.solve_func\u001B[0;34m(params)\u001B[0m\n\u001B[1;32m    156\u001B[0m \u001B[38;5;28;01mdef\u001B[39;00m \u001B[38;5;21msolve_func\u001B[39m(params):\n\u001B[1;32m    157\u001B[0m     params_initial \u001B[38;5;241m=\u001B[39m process_params(params)\n\u001B[0;32m--> 158\u001B[0m     \u001B[38;5;28;01mreturn\u001B[39;00m \u001B[43mbackward_jit\u001B[49m\u001B[43m(\u001B[49m\u001B[43mparams\u001B[49m\u001B[38;5;241;43m=\u001B[39;49m\u001B[43mparams_initial\u001B[49m\u001B[43m)\u001B[49m\n",
      "    \u001B[0;31m[... skipping hidden 12 frame]\u001B[0m\n",
      "File \u001B[0;32m~/Uni/pol_uncetainty/structural/model_development/submodules/dc-egm/src/dcegm/solve.py:294\u001B[0m, in \u001B[0;36mbackward_induction\u001B[0;34m(params, period_specific_state_objects, exog_savings_grid, state_space, income_shock_draws_unscaled, income_shock_weights, n_periods, model_funcs, compute_upper_envelope)\u001B[0m\n\u001B[1;32m    278\u001B[0m marg_util, emax \u001B[38;5;241m=\u001B[39m aggregate_marg_utils_and_exp_values(\n\u001B[1;32m    279\u001B[0m     value_state_choice_specific\u001B[38;5;241m=\u001B[39mvalue_interpolated,\n\u001B[1;32m    280\u001B[0m     marg_util_state_choice_specific\u001B[38;5;241m=\u001B[39mmarg_util_interpolated,\n\u001B[0;32m   (...)\u001B[0m\n\u001B[1;32m    285\u001B[0m     income_shock_weights\u001B[38;5;241m=\u001B[39mincome_shock_weights,\n\u001B[1;32m    286\u001B[0m )\n\u001B[1;32m    288\u001B[0m \u001B[38;5;66;03m# EGM step 3)\u001B[39;00m\n\u001B[1;32m    289\u001B[0m (\n\u001B[1;32m    290\u001B[0m     endog_grid_candidate,\n\u001B[1;32m    291\u001B[0m     value_candidate,\n\u001B[1;32m    292\u001B[0m     policy_candidate,\n\u001B[1;32m    293\u001B[0m     expected_values,\n\u001B[0;32m--> 294\u001B[0m ) \u001B[38;5;241m=\u001B[39m \u001B[43mcalculate_candidate_solutions_from_euler_equation\u001B[49m\u001B[43m(\u001B[49m\n\u001B[1;32m    295\u001B[0m \u001B[43m    \u001B[49m\u001B[43mexogenous_savings_grid\u001B[49m\u001B[38;5;241;43m=\u001B[39;49m\u001B[43mexog_savings_grid\u001B[49m\u001B[43m,\u001B[49m\n\u001B[1;32m    296\u001B[0m \u001B[43m    \u001B[49m\u001B[43mmarg_util\u001B[49m\u001B[38;5;241;43m=\u001B[39;49m\u001B[43mmarg_util\u001B[49m\u001B[43m,\u001B[49m\n\u001B[1;32m    297\u001B[0m \u001B[43m    \u001B[49m\u001B[43memax\u001B[49m\u001B[38;5;241;43m=\u001B[39;49m\u001B[43memax\u001B[49m\u001B[43m,\u001B[49m\n\u001B[1;32m    298\u001B[0m \u001B[43m    \u001B[49m\u001B[43mstate_choice_vec\u001B[49m\u001B[38;5;241;43m=\u001B[39;49m\u001B[43mstate_objects\u001B[49m\u001B[43m[\u001B[49m\u001B[38;5;124;43m\"\u001B[39;49m\u001B[38;5;124;43mstate_choice_mat\u001B[39;49m\u001B[38;5;124;43m\"\u001B[39;49m\u001B[43m]\u001B[49m\u001B[43m,\u001B[49m\n\u001B[1;32m    299\u001B[0m \u001B[43m    \u001B[49m\u001B[43midx_post_decision_child_states\u001B[49m\u001B[38;5;241;43m=\u001B[39;49m\u001B[43mstate_objects\u001B[49m\u001B[43m[\u001B[49m\u001B[38;5;124;43m\"\u001B[39;49m\u001B[38;5;124;43midx_feasible_child_nodes\u001B[39;49m\u001B[38;5;124;43m\"\u001B[39;49m\u001B[43m]\u001B[49m\u001B[43m,\u001B[49m\n\u001B[1;32m    300\u001B[0m \u001B[43m    \u001B[49m\u001B[43mcompute_inverse_marginal_utility\u001B[49m\u001B[38;5;241;43m=\u001B[39;49m\u001B[43mmodel_funcs\u001B[49m\u001B[43m[\u001B[49m\n\u001B[1;32m    301\u001B[0m \u001B[43m        \u001B[49m\u001B[38;5;124;43m\"\u001B[39;49m\u001B[38;5;124;43mcompute_inverse_marginal_utility\u001B[39;49m\u001B[38;5;124;43m\"\u001B[39;49m\n\u001B[1;32m    302\u001B[0m \u001B[43m    \u001B[49m\u001B[43m]\u001B[49m\u001B[43m,\u001B[49m\n\u001B[1;32m    303\u001B[0m \u001B[43m    \u001B[49m\u001B[43mcompute_utility\u001B[49m\u001B[38;5;241;43m=\u001B[39;49m\u001B[43mmodel_funcs\u001B[49m\u001B[43m[\u001B[49m\u001B[38;5;124;43m\"\u001B[39;49m\u001B[38;5;124;43mcompute_utility\u001B[39;49m\u001B[38;5;124;43m\"\u001B[39;49m\u001B[43m]\u001B[49m\u001B[43m,\u001B[49m\n\u001B[1;32m    304\u001B[0m \u001B[43m    \u001B[49m\u001B[43mcompute_exog_transition_vec\u001B[49m\u001B[38;5;241;43m=\u001B[39;49m\u001B[43mmodel_funcs\u001B[49m\u001B[43m[\u001B[49m\u001B[38;5;124;43m\"\u001B[39;49m\u001B[38;5;124;43mcompute_exog_transition_vec\u001B[39;49m\u001B[38;5;124;43m\"\u001B[39;49m\u001B[43m]\u001B[49m\u001B[43m,\u001B[49m\n\u001B[1;32m    305\u001B[0m \u001B[43m    \u001B[49m\u001B[43mparams\u001B[49m\u001B[38;5;241;43m=\u001B[39;49m\u001B[43mparams\u001B[49m\u001B[43m,\u001B[49m\n\u001B[1;32m    306\u001B[0m \u001B[43m\u001B[49m\u001B[43m)\u001B[49m\n\u001B[1;32m    308\u001B[0m \u001B[38;5;66;03m# Run upper envelope to remove suboptimal candidates\u001B[39;00m\n\u001B[1;32m    309\u001B[0m (\n\u001B[1;32m    310\u001B[0m     endog_grid_state_choice,\n\u001B[1;32m    311\u001B[0m     policy_left_state_choice,\n\u001B[0;32m   (...)\u001B[0m\n\u001B[1;32m    324\u001B[0m     model_funcs[\u001B[38;5;124m\"\u001B[39m\u001B[38;5;124mcompute_utility\u001B[39m\u001B[38;5;124m\"\u001B[39m],\n\u001B[1;32m    325\u001B[0m )\n",
      "File \u001B[0;32m~/Uni/pol_uncetainty/structural/model_development/submodules/dc-egm/src/dcegm/egm/solve_euler_equation.py:36\u001B[0m, in \u001B[0;36mcalculate_candidate_solutions_from_euler_equation\u001B[0;34m(exogenous_savings_grid, marg_util, emax, state_choice_vec, idx_post_decision_child_states, compute_utility, compute_inverse_marginal_utility, compute_exog_transition_vec, params)\u001B[0m\n\u001B[1;32m     23\u001B[0m feasible_marg_utils, feasible_emax \u001B[38;5;241m=\u001B[39m _get_post_decision_marg_utils_and_emax(\n\u001B[1;32m     24\u001B[0m     marg_util_next\u001B[38;5;241m=\u001B[39mmarg_util,\n\u001B[1;32m     25\u001B[0m     emax_next\u001B[38;5;241m=\u001B[39memax,\n\u001B[1;32m     26\u001B[0m     idx_post_decision_child_states\u001B[38;5;241m=\u001B[39midx_post_decision_child_states,\n\u001B[1;32m     27\u001B[0m )\n\u001B[1;32m     29\u001B[0m \u001B[38;5;66;03m# transform exog_transition_mat to matrix with same shape as state_choice_vec\u001B[39;00m\n\u001B[1;32m     31\u001B[0m (\n\u001B[1;32m     32\u001B[0m     endog_grid,\n\u001B[1;32m     33\u001B[0m     policy,\n\u001B[1;32m     34\u001B[0m     value,\n\u001B[1;32m     35\u001B[0m     expected_value,\n\u001B[0;32m---> 36\u001B[0m ) \u001B[38;5;241m=\u001B[39m \u001B[43mvmap\u001B[49m\u001B[43m(\u001B[49m\n\u001B[1;32m     37\u001B[0m \u001B[43m    \u001B[49m\u001B[43mvmap\u001B[49m\u001B[43m(\u001B[49m\n\u001B[1;32m     38\u001B[0m \u001B[43m        \u001B[49m\u001B[43mcompute_optimal_policy_and_value\u001B[49m\u001B[43m,\u001B[49m\n\u001B[1;32m     39\u001B[0m \u001B[43m        \u001B[49m\u001B[43min_axes\u001B[49m\u001B[38;5;241;43m=\u001B[39;49m\u001B[43m(\u001B[49m\u001B[38;5;241;43m1\u001B[39;49m\u001B[43m,\u001B[49m\u001B[43m \u001B[49m\u001B[38;5;241;43m1\u001B[39;49m\u001B[43m,\u001B[49m\u001B[43m \u001B[49m\u001B[38;5;241;43m0\u001B[39;49m\u001B[43m,\u001B[49m\u001B[43m \u001B[49m\u001B[38;5;28;43;01mNone\u001B[39;49;00m\u001B[43m,\u001B[49m\u001B[43m \u001B[49m\u001B[38;5;28;43;01mNone\u001B[39;49;00m\u001B[43m,\u001B[49m\u001B[43m \u001B[49m\u001B[38;5;28;43;01mNone\u001B[39;49;00m\u001B[43m,\u001B[49m\u001B[43m \u001B[49m\u001B[38;5;28;43;01mNone\u001B[39;49;00m\u001B[43m,\u001B[49m\u001B[43m \u001B[49m\u001B[38;5;28;43;01mNone\u001B[39;49;00m\u001B[43m)\u001B[49m\u001B[43m,\u001B[49m\u001B[43m  \u001B[49m\u001B[38;5;66;43;03m# savings grid\u001B[39;49;00m\n\u001B[1;32m     40\u001B[0m \u001B[43m    \u001B[49m\u001B[43m)\u001B[49m\u001B[43m,\u001B[49m\n\u001B[1;32m     41\u001B[0m \u001B[43m    \u001B[49m\u001B[43min_axes\u001B[49m\u001B[38;5;241;43m=\u001B[39;49m\u001B[43m(\u001B[49m\u001B[38;5;241;43m0\u001B[39;49m\u001B[43m,\u001B[49m\u001B[43m \u001B[49m\u001B[38;5;241;43m0\u001B[39;49m\u001B[43m,\u001B[49m\u001B[43m \u001B[49m\u001B[38;5;28;43;01mNone\u001B[39;49;00m\u001B[43m,\u001B[49m\u001B[43m \u001B[49m\u001B[38;5;241;43m0\u001B[39;49m\u001B[43m,\u001B[49m\u001B[43m \u001B[49m\u001B[38;5;28;43;01mNone\u001B[39;49;00m\u001B[43m,\u001B[49m\u001B[43m \u001B[49m\u001B[38;5;28;43;01mNone\u001B[39;49;00m\u001B[43m,\u001B[49m\u001B[43m \u001B[49m\u001B[38;5;28;43;01mNone\u001B[39;49;00m\u001B[43m,\u001B[49m\u001B[43m \u001B[49m\u001B[38;5;28;43;01mNone\u001B[39;49;00m\u001B[43m)\u001B[49m\u001B[43m,\u001B[49m\u001B[43m  \u001B[49m\u001B[38;5;66;43;03m# states and choices\u001B[39;49;00m\n\u001B[1;32m     42\u001B[0m \u001B[43m\u001B[49m\u001B[43m)\u001B[49m\u001B[43m(\u001B[49m\n\u001B[1;32m     43\u001B[0m \u001B[43m    \u001B[49m\u001B[43mfeasible_marg_utils\u001B[49m\u001B[43m,\u001B[49m\n\u001B[1;32m     44\u001B[0m \u001B[43m    \u001B[49m\u001B[43mfeasible_emax\u001B[49m\u001B[43m,\u001B[49m\n\u001B[1;32m     45\u001B[0m \u001B[43m    \u001B[49m\u001B[43mexogenous_savings_grid\u001B[49m\u001B[43m,\u001B[49m\n\u001B[1;32m     46\u001B[0m \u001B[43m    \u001B[49m\u001B[43mstate_choice_vec\u001B[49m\u001B[43m,\u001B[49m\n\u001B[1;32m     47\u001B[0m \u001B[43m    \u001B[49m\u001B[43mcompute_inverse_marginal_utility\u001B[49m\u001B[43m,\u001B[49m\n\u001B[1;32m     48\u001B[0m \u001B[43m    \u001B[49m\u001B[43mcompute_utility\u001B[49m\u001B[43m,\u001B[49m\n\u001B[1;32m     49\u001B[0m \u001B[43m    \u001B[49m\u001B[43mcompute_exog_transition_vec\u001B[49m\u001B[43m,\u001B[49m\n\u001B[1;32m     50\u001B[0m \u001B[43m    \u001B[49m\u001B[43mparams\u001B[49m\u001B[43m,\u001B[49m\n\u001B[1;32m     51\u001B[0m \u001B[43m\u001B[49m\u001B[43m)\u001B[49m\n\u001B[1;32m     52\u001B[0m \u001B[38;5;28;01mreturn\u001B[39;00m (\n\u001B[1;32m     53\u001B[0m     endog_grid,\n\u001B[1;32m     54\u001B[0m     value,\n\u001B[1;32m     55\u001B[0m     policy,\n\u001B[1;32m     56\u001B[0m     expected_value,\n\u001B[1;32m     57\u001B[0m )\n",
      "    \u001B[0;31m[... skipping hidden 6 frame]\u001B[0m\n",
      "File \u001B[0;32m~/Uni/pol_uncetainty/structural/model_development/submodules/dc-egm/src/dcegm/egm/solve_euler_equation.py:113\u001B[0m, in \u001B[0;36mcompute_optimal_policy_and_value\u001B[0;34m(marg_utils, emax, exogenous_savings_grid, state_choice_vec, compute_inverse_marginal_utility, compute_utility, compute_exog_transition_vec, params)\u001B[0m\n\u001B[1;32m     60\u001B[0m \u001B[38;5;28;01mdef\u001B[39;00m \u001B[38;5;21mcompute_optimal_policy_and_value\u001B[39m(\n\u001B[1;32m     61\u001B[0m     marg_utils: np\u001B[38;5;241m.\u001B[39mndarray,\n\u001B[1;32m     62\u001B[0m     emax: np\u001B[38;5;241m.\u001B[39mndarray,\n\u001B[0;32m   (...)\u001B[0m\n\u001B[1;32m     68\u001B[0m     params: Dict[\u001B[38;5;28mstr\u001B[39m, \u001B[38;5;28mfloat\u001B[39m],\n\u001B[1;32m     69\u001B[0m ) \u001B[38;5;241m-\u001B[39m\u001B[38;5;241m>\u001B[39m Tuple[np\u001B[38;5;241m.\u001B[39mndarray, np\u001B[38;5;241m.\u001B[39mndarray, np\u001B[38;5;241m.\u001B[39mndarray, np\u001B[38;5;241m.\u001B[39mndarray]:\n\u001B[1;32m     70\u001B[0m \u001B[38;5;250m    \u001B[39m\u001B[38;5;124;03m\"\"\"Compute optimal child-state- and choice-specific policy and value function.\u001B[39;00m\n\u001B[1;32m     71\u001B[0m \n\u001B[1;32m     72\u001B[0m \u001B[38;5;124;03m    Given the marginal utilities of possible child states and next period wealth, we\u001B[39;00m\n\u001B[0;32m   (...)\u001B[0m\n\u001B[1;32m    110\u001B[0m \n\u001B[1;32m    111\u001B[0m \u001B[38;5;124;03m    \"\"\"\u001B[39;00m\n\u001B[0;32m--> 113\u001B[0m     policy, expected_value \u001B[38;5;241m=\u001B[39m \u001B[43msolve_euler_equation\u001B[49m\u001B[43m(\u001B[49m\n\u001B[1;32m    114\u001B[0m \u001B[43m        \u001B[49m\u001B[43mstate_choice_vec\u001B[49m\u001B[38;5;241;43m=\u001B[39;49m\u001B[43mstate_choice_vec\u001B[49m\u001B[43m,\u001B[49m\n\u001B[1;32m    115\u001B[0m \u001B[43m        \u001B[49m\u001B[43mmarg_utils\u001B[49m\u001B[38;5;241;43m=\u001B[39;49m\u001B[43mmarg_utils\u001B[49m\u001B[43m,\u001B[49m\n\u001B[1;32m    116\u001B[0m \u001B[43m        \u001B[49m\u001B[43memax\u001B[49m\u001B[38;5;241;43m=\u001B[39;49m\u001B[43memax\u001B[49m\u001B[43m,\u001B[49m\n\u001B[1;32m    117\u001B[0m \u001B[43m        \u001B[49m\u001B[43mcompute_inverse_marginal_utility\u001B[49m\u001B[38;5;241;43m=\u001B[39;49m\u001B[43mcompute_inverse_marginal_utility\u001B[49m\u001B[43m,\u001B[49m\n\u001B[1;32m    118\u001B[0m \u001B[43m        \u001B[49m\u001B[43mcompute_exog_transition_vec\u001B[49m\u001B[38;5;241;43m=\u001B[39;49m\u001B[43mcompute_exog_transition_vec\u001B[49m\u001B[43m,\u001B[49m\n\u001B[1;32m    119\u001B[0m \u001B[43m        \u001B[49m\u001B[43mparams\u001B[49m\u001B[38;5;241;43m=\u001B[39;49m\u001B[43mparams\u001B[49m\u001B[43m,\u001B[49m\n\u001B[1;32m    120\u001B[0m \u001B[43m    \u001B[49m\u001B[43m)\u001B[49m\n\u001B[1;32m    121\u001B[0m     endog_grid \u001B[38;5;241m=\u001B[39m exogenous_savings_grid \u001B[38;5;241m+\u001B[39m policy\n\u001B[1;32m    123\u001B[0m     utility \u001B[38;5;241m=\u001B[39m compute_utility(consumption\u001B[38;5;241m=\u001B[39mpolicy, params\u001B[38;5;241m=\u001B[39mparams, \u001B[38;5;241m*\u001B[39m\u001B[38;5;241m*\u001B[39mstate_choice_vec)\n",
      "File \u001B[0;32m~/Uni/pol_uncetainty/structural/model_development/submodules/dc-egm/src/dcegm/egm/solve_euler_equation.py:175\u001B[0m, in \u001B[0;36msolve_euler_equation\u001B[0;34m(state_choice_vec, marg_utils, emax, compute_inverse_marginal_utility, compute_exog_transition_vec, params)\u001B[0m\n\u001B[1;32m    172\u001B[0m \u001B[38;5;66;03m# RHS of Euler Eq., p. 337 IJRS (2017) by multiplying with marginal wealth\u001B[39;00m\n\u001B[1;32m    173\u001B[0m rhs_euler \u001B[38;5;241m=\u001B[39m marginal_utility \u001B[38;5;241m*\u001B[39m (\u001B[38;5;241m1\u001B[39m \u001B[38;5;241m+\u001B[39m params[\u001B[38;5;124m\"\u001B[39m\u001B[38;5;124minterest_rate\u001B[39m\u001B[38;5;124m\"\u001B[39m]) \u001B[38;5;241m*\u001B[39m params[\u001B[38;5;124m\"\u001B[39m\u001B[38;5;124mbeta\u001B[39m\u001B[38;5;124m\"\u001B[39m]\n\u001B[0;32m--> 175\u001B[0m policy \u001B[38;5;241m=\u001B[39m \u001B[43mcompute_inverse_marginal_utility\u001B[49m\u001B[43m(\u001B[49m\n\u001B[1;32m    176\u001B[0m \u001B[43m    \u001B[49m\u001B[43mmarginal_utility\u001B[49m\u001B[38;5;241;43m=\u001B[39;49m\u001B[43mrhs_euler\u001B[49m\u001B[43m,\u001B[49m\n\u001B[1;32m    177\u001B[0m \u001B[43m    \u001B[49m\u001B[43mparams\u001B[49m\u001B[38;5;241;43m=\u001B[39;49m\u001B[43mparams\u001B[49m\u001B[43m,\u001B[49m\n\u001B[1;32m    178\u001B[0m \u001B[43m    \u001B[49m\u001B[38;5;241;43m*\u001B[39;49m\u001B[38;5;241;43m*\u001B[39;49m\u001B[43mstate_choice_vec\u001B[49m\u001B[43m,\u001B[49m\n\u001B[1;32m    179\u001B[0m \u001B[43m\u001B[49m\u001B[43m)\u001B[49m\n\u001B[1;32m    181\u001B[0m \u001B[38;5;28;01mreturn\u001B[39;00m policy, expected_value\n",
      "File \u001B[0;32m~/Uni/pol_uncetainty/structural/model_development/submodules/dc-egm/src/dcegm/pre_processing/shared.py:22\u001B[0m, in \u001B[0;36mdetermine_function_arguments_and_partial_options.<locals>.processed_func\u001B[0;34m(**kwargs)\u001B[0m\n\u001B[1;32m     20\u001B[0m \u001B[38;5;129m@functools\u001B[39m\u001B[38;5;241m.\u001B[39mwraps(func)\n\u001B[1;32m     21\u001B[0m \u001B[38;5;28;01mdef\u001B[39;00m \u001B[38;5;21mprocessed_func\u001B[39m(\u001B[38;5;241m*\u001B[39m\u001B[38;5;241m*\u001B[39mkwargs):\n\u001B[0;32m---> 22\u001B[0m     func_kwargs \u001B[38;5;241m=\u001B[39m {key: kwargs[key] \u001B[38;5;28;01mfor\u001B[39;00m key \u001B[38;5;129;01min\u001B[39;00m signature}\n\u001B[1;32m     24\u001B[0m     \u001B[38;5;28;01mreturn\u001B[39;00m partialed_func(\u001B[38;5;241m*\u001B[39m\u001B[38;5;241m*\u001B[39mfunc_kwargs)\n",
      "File \u001B[0;32m~/Uni/pol_uncetainty/structural/model_development/submodules/dc-egm/src/dcegm/pre_processing/shared.py:22\u001B[0m, in \u001B[0;36m<dictcomp>\u001B[0;34m(.0)\u001B[0m\n\u001B[1;32m     20\u001B[0m \u001B[38;5;129m@functools\u001B[39m\u001B[38;5;241m.\u001B[39mwraps(func)\n\u001B[1;32m     21\u001B[0m \u001B[38;5;28;01mdef\u001B[39;00m \u001B[38;5;21mprocessed_func\u001B[39m(\u001B[38;5;241m*\u001B[39m\u001B[38;5;241m*\u001B[39mkwargs):\n\u001B[0;32m---> 22\u001B[0m     func_kwargs \u001B[38;5;241m=\u001B[39m {key: \u001B[43mkwargs\u001B[49m\u001B[43m[\u001B[49m\u001B[43mkey\u001B[49m\u001B[43m]\u001B[49m \u001B[38;5;28;01mfor\u001B[39;00m key \u001B[38;5;129;01min\u001B[39;00m signature}\n\u001B[1;32m     24\u001B[0m     \u001B[38;5;28;01mreturn\u001B[39;00m partialed_func(\u001B[38;5;241m*\u001B[39m\u001B[38;5;241m*\u001B[39mfunc_kwargs)\n",
      "\u001B[0;31mKeyError\u001B[0m: 'params_dict'"
     ]
    }
   ],
   "source": [
    "solve_func(params_dict_test)"
   ]
  },
  {
   "cell_type": "code",
   "execution_count": null,
   "outputs": [],
   "source": [],
   "metadata": {
    "collapsed": false
   },
   "id": "ed74cdd4842cb4b7"
  }
 ],
 "metadata": {
  "kernelspec": {
   "display_name": "Python 3 (ipykernel)",
   "language": "python",
   "name": "python3"
  },
  "language_info": {
   "codemirror_mode": {
    "name": "ipython",
    "version": 3
   },
   "file_extension": ".py",
   "mimetype": "text/x-python",
   "name": "python",
   "nbconvert_exporter": "python",
   "pygments_lexer": "ipython3",
   "version": "3.10.4"
  }
 },
 "nbformat": 4,
 "nbformat_minor": 5
}
